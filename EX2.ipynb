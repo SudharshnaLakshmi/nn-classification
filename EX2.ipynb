{
  "cells": [
    {
      "cell_type": "code",
      "execution_count": 1,
      "metadata": {
        "id": "CXq-4YOLqhah"
      },
      "outputs": [],
      "source": [
        "import pandas as pd\n",
        "from sklearn.model_selection import train_test_split\n",
        "from tensorflow.keras.models import Sequential\n",
        "from tensorflow.keras.models import load_model\n",
        "import pickle\n",
        "from tensorflow.keras.layers import Dense\n",
        "from tensorflow.keras.layers import Dropout\n",
        "from tensorflow.keras.layers import BatchNormalization\n",
        "import tensorflow as tf\n",
        "import seaborn as sns\n",
        "from tensorflow.keras.callbacks import EarlyStopping\n",
        "from sklearn.preprocessing import MinMaxScaler\n",
        "from sklearn.preprocessing import LabelEncoder\n",
        "from sklearn.preprocessing import OneHotEncoder\n",
        "from sklearn.preprocessing import OrdinalEncoder\n",
        "from sklearn.metrics import classification_report,confusion_matrix\n",
        "import numpy as np\n",
        "import matplotlib.pylab as plt"
      ]
    },
    {
      "cell_type": "code",
      "execution_count": 4,
      "metadata": {
        "id": "mXvRSct2q4ka"
      },
      "outputs": [],
      "source": [
        "customer_df = pd.read_csv('customers.csv')"
      ]
    },
    {
      "cell_type": "code",
      "source": [
        "customer_df.head()"
      ],
      "metadata": {
        "colab": {
          "base_uri": "https://localhost:8080/",
          "height": 206
        },
        "id": "2XDN4cNKnhIv",
        "outputId": "86e749fe-a138-4b78-ef4c-f8c7ad7ef747"
      },
      "execution_count": 67,
      "outputs": [
        {
          "output_type": "execute_result",
          "data": {
            "text/plain": [
              "       ID  Gender Ever_Married  Age Graduated     Profession  Work_Experience  \\\n",
              "0  462809    Male           No   22        No     Healthcare              1.0   \n",
              "1  462643  Female          Yes   38       Yes       Engineer              NaN   \n",
              "2  466315  Female          Yes   67       Yes       Engineer              1.0   \n",
              "3  461735    Male          Yes   67       Yes         Lawyer              0.0   \n",
              "4  462669  Female          Yes   40       Yes  Entertainment              NaN   \n",
              "\n",
              "  Spending_Score  Family_Size  Var_1 Segmentation  \n",
              "0            Low          4.0  Cat_4            D  \n",
              "1        Average          3.0  Cat_4            A  \n",
              "2            Low          1.0  Cat_6            B  \n",
              "3           High          2.0  Cat_6            B  \n",
              "4           High          6.0  Cat_6            A  "
            ],
            "text/html": [
              "\n",
              "  <div id=\"df-33807634-d859-48cc-926f-5e1d6d4aa7e2\" class=\"colab-df-container\">\n",
              "    <div>\n",
              "<style scoped>\n",
              "    .dataframe tbody tr th:only-of-type {\n",
              "        vertical-align: middle;\n",
              "    }\n",
              "\n",
              "    .dataframe tbody tr th {\n",
              "        vertical-align: top;\n",
              "    }\n",
              "\n",
              "    .dataframe thead th {\n",
              "        text-align: right;\n",
              "    }\n",
              "</style>\n",
              "<table border=\"1\" class=\"dataframe\">\n",
              "  <thead>\n",
              "    <tr style=\"text-align: right;\">\n",
              "      <th></th>\n",
              "      <th>ID</th>\n",
              "      <th>Gender</th>\n",
              "      <th>Ever_Married</th>\n",
              "      <th>Age</th>\n",
              "      <th>Graduated</th>\n",
              "      <th>Profession</th>\n",
              "      <th>Work_Experience</th>\n",
              "      <th>Spending_Score</th>\n",
              "      <th>Family_Size</th>\n",
              "      <th>Var_1</th>\n",
              "      <th>Segmentation</th>\n",
              "    </tr>\n",
              "  </thead>\n",
              "  <tbody>\n",
              "    <tr>\n",
              "      <th>0</th>\n",
              "      <td>462809</td>\n",
              "      <td>Male</td>\n",
              "      <td>No</td>\n",
              "      <td>22</td>\n",
              "      <td>No</td>\n",
              "      <td>Healthcare</td>\n",
              "      <td>1.0</td>\n",
              "      <td>Low</td>\n",
              "      <td>4.0</td>\n",
              "      <td>Cat_4</td>\n",
              "      <td>D</td>\n",
              "    </tr>\n",
              "    <tr>\n",
              "      <th>1</th>\n",
              "      <td>462643</td>\n",
              "      <td>Female</td>\n",
              "      <td>Yes</td>\n",
              "      <td>38</td>\n",
              "      <td>Yes</td>\n",
              "      <td>Engineer</td>\n",
              "      <td>NaN</td>\n",
              "      <td>Average</td>\n",
              "      <td>3.0</td>\n",
              "      <td>Cat_4</td>\n",
              "      <td>A</td>\n",
              "    </tr>\n",
              "    <tr>\n",
              "      <th>2</th>\n",
              "      <td>466315</td>\n",
              "      <td>Female</td>\n",
              "      <td>Yes</td>\n",
              "      <td>67</td>\n",
              "      <td>Yes</td>\n",
              "      <td>Engineer</td>\n",
              "      <td>1.0</td>\n",
              "      <td>Low</td>\n",
              "      <td>1.0</td>\n",
              "      <td>Cat_6</td>\n",
              "      <td>B</td>\n",
              "    </tr>\n",
              "    <tr>\n",
              "      <th>3</th>\n",
              "      <td>461735</td>\n",
              "      <td>Male</td>\n",
              "      <td>Yes</td>\n",
              "      <td>67</td>\n",
              "      <td>Yes</td>\n",
              "      <td>Lawyer</td>\n",
              "      <td>0.0</td>\n",
              "      <td>High</td>\n",
              "      <td>2.0</td>\n",
              "      <td>Cat_6</td>\n",
              "      <td>B</td>\n",
              "    </tr>\n",
              "    <tr>\n",
              "      <th>4</th>\n",
              "      <td>462669</td>\n",
              "      <td>Female</td>\n",
              "      <td>Yes</td>\n",
              "      <td>40</td>\n",
              "      <td>Yes</td>\n",
              "      <td>Entertainment</td>\n",
              "      <td>NaN</td>\n",
              "      <td>High</td>\n",
              "      <td>6.0</td>\n",
              "      <td>Cat_6</td>\n",
              "      <td>A</td>\n",
              "    </tr>\n",
              "  </tbody>\n",
              "</table>\n",
              "</div>\n",
              "    <div class=\"colab-df-buttons\">\n",
              "\n",
              "  <div class=\"colab-df-container\">\n",
              "    <button class=\"colab-df-convert\" onclick=\"convertToInteractive('df-33807634-d859-48cc-926f-5e1d6d4aa7e2')\"\n",
              "            title=\"Convert this dataframe to an interactive table.\"\n",
              "            style=\"display:none;\">\n",
              "\n",
              "  <svg xmlns=\"http://www.w3.org/2000/svg\" height=\"24px\" viewBox=\"0 -960 960 960\">\n",
              "    <path d=\"M120-120v-720h720v720H120Zm60-500h600v-160H180v160Zm220 220h160v-160H400v160Zm0 220h160v-160H400v160ZM180-400h160v-160H180v160Zm440 0h160v-160H620v160ZM180-180h160v-160H180v160Zm440 0h160v-160H620v160Z\"/>\n",
              "  </svg>\n",
              "    </button>\n",
              "\n",
              "  <style>\n",
              "    .colab-df-container {\n",
              "      display:flex;\n",
              "      gap: 12px;\n",
              "    }\n",
              "\n",
              "    .colab-df-convert {\n",
              "      background-color: #E8F0FE;\n",
              "      border: none;\n",
              "      border-radius: 50%;\n",
              "      cursor: pointer;\n",
              "      display: none;\n",
              "      fill: #1967D2;\n",
              "      height: 32px;\n",
              "      padding: 0 0 0 0;\n",
              "      width: 32px;\n",
              "    }\n",
              "\n",
              "    .colab-df-convert:hover {\n",
              "      background-color: #E2EBFA;\n",
              "      box-shadow: 0px 1px 2px rgba(60, 64, 67, 0.3), 0px 1px 3px 1px rgba(60, 64, 67, 0.15);\n",
              "      fill: #174EA6;\n",
              "    }\n",
              "\n",
              "    .colab-df-buttons div {\n",
              "      margin-bottom: 4px;\n",
              "    }\n",
              "\n",
              "    [theme=dark] .colab-df-convert {\n",
              "      background-color: #3B4455;\n",
              "      fill: #D2E3FC;\n",
              "    }\n",
              "\n",
              "    [theme=dark] .colab-df-convert:hover {\n",
              "      background-color: #434B5C;\n",
              "      box-shadow: 0px 1px 3px 1px rgba(0, 0, 0, 0.15);\n",
              "      filter: drop-shadow(0px 1px 2px rgba(0, 0, 0, 0.3));\n",
              "      fill: #FFFFFF;\n",
              "    }\n",
              "  </style>\n",
              "\n",
              "    <script>\n",
              "      const buttonEl =\n",
              "        document.querySelector('#df-33807634-d859-48cc-926f-5e1d6d4aa7e2 button.colab-df-convert');\n",
              "      buttonEl.style.display =\n",
              "        google.colab.kernel.accessAllowed ? 'block' : 'none';\n",
              "\n",
              "      async function convertToInteractive(key) {\n",
              "        const element = document.querySelector('#df-33807634-d859-48cc-926f-5e1d6d4aa7e2');\n",
              "        const dataTable =\n",
              "          await google.colab.kernel.invokeFunction('convertToInteractive',\n",
              "                                                    [key], {});\n",
              "        if (!dataTable) return;\n",
              "\n",
              "        const docLinkHtml = 'Like what you see? Visit the ' +\n",
              "          '<a target=\"_blank\" href=https://colab.research.google.com/notebooks/data_table.ipynb>data table notebook</a>'\n",
              "          + ' to learn more about interactive tables.';\n",
              "        element.innerHTML = '';\n",
              "        dataTable['output_type'] = 'display_data';\n",
              "        await google.colab.output.renderOutput(dataTable, element);\n",
              "        const docLink = document.createElement('div');\n",
              "        docLink.innerHTML = docLinkHtml;\n",
              "        element.appendChild(docLink);\n",
              "      }\n",
              "    </script>\n",
              "  </div>\n",
              "\n",
              "\n",
              "<div id=\"df-5b4edf53-09cb-4680-815c-add7766419f7\">\n",
              "  <button class=\"colab-df-quickchart\" onclick=\"quickchart('df-5b4edf53-09cb-4680-815c-add7766419f7')\"\n",
              "            title=\"Suggest charts\"\n",
              "            style=\"display:none;\">\n",
              "\n",
              "<svg xmlns=\"http://www.w3.org/2000/svg\" height=\"24px\"viewBox=\"0 0 24 24\"\n",
              "     width=\"24px\">\n",
              "    <g>\n",
              "        <path d=\"M19 3H5c-1.1 0-2 .9-2 2v14c0 1.1.9 2 2 2h14c1.1 0 2-.9 2-2V5c0-1.1-.9-2-2-2zM9 17H7v-7h2v7zm4 0h-2V7h2v10zm4 0h-2v-4h2v4z\"/>\n",
              "    </g>\n",
              "</svg>\n",
              "  </button>\n",
              "\n",
              "<style>\n",
              "  .colab-df-quickchart {\n",
              "      --bg-color: #E8F0FE;\n",
              "      --fill-color: #1967D2;\n",
              "      --hover-bg-color: #E2EBFA;\n",
              "      --hover-fill-color: #174EA6;\n",
              "      --disabled-fill-color: #AAA;\n",
              "      --disabled-bg-color: #DDD;\n",
              "  }\n",
              "\n",
              "  [theme=dark] .colab-df-quickchart {\n",
              "      --bg-color: #3B4455;\n",
              "      --fill-color: #D2E3FC;\n",
              "      --hover-bg-color: #434B5C;\n",
              "      --hover-fill-color: #FFFFFF;\n",
              "      --disabled-bg-color: #3B4455;\n",
              "      --disabled-fill-color: #666;\n",
              "  }\n",
              "\n",
              "  .colab-df-quickchart {\n",
              "    background-color: var(--bg-color);\n",
              "    border: none;\n",
              "    border-radius: 50%;\n",
              "    cursor: pointer;\n",
              "    display: none;\n",
              "    fill: var(--fill-color);\n",
              "    height: 32px;\n",
              "    padding: 0;\n",
              "    width: 32px;\n",
              "  }\n",
              "\n",
              "  .colab-df-quickchart:hover {\n",
              "    background-color: var(--hover-bg-color);\n",
              "    box-shadow: 0 1px 2px rgba(60, 64, 67, 0.3), 0 1px 3px 1px rgba(60, 64, 67, 0.15);\n",
              "    fill: var(--button-hover-fill-color);\n",
              "  }\n",
              "\n",
              "  .colab-df-quickchart-complete:disabled,\n",
              "  .colab-df-quickchart-complete:disabled:hover {\n",
              "    background-color: var(--disabled-bg-color);\n",
              "    fill: var(--disabled-fill-color);\n",
              "    box-shadow: none;\n",
              "  }\n",
              "\n",
              "  .colab-df-spinner {\n",
              "    border: 2px solid var(--fill-color);\n",
              "    border-color: transparent;\n",
              "    border-bottom-color: var(--fill-color);\n",
              "    animation:\n",
              "      spin 1s steps(1) infinite;\n",
              "  }\n",
              "\n",
              "  @keyframes spin {\n",
              "    0% {\n",
              "      border-color: transparent;\n",
              "      border-bottom-color: var(--fill-color);\n",
              "      border-left-color: var(--fill-color);\n",
              "    }\n",
              "    20% {\n",
              "      border-color: transparent;\n",
              "      border-left-color: var(--fill-color);\n",
              "      border-top-color: var(--fill-color);\n",
              "    }\n",
              "    30% {\n",
              "      border-color: transparent;\n",
              "      border-left-color: var(--fill-color);\n",
              "      border-top-color: var(--fill-color);\n",
              "      border-right-color: var(--fill-color);\n",
              "    }\n",
              "    40% {\n",
              "      border-color: transparent;\n",
              "      border-right-color: var(--fill-color);\n",
              "      border-top-color: var(--fill-color);\n",
              "    }\n",
              "    60% {\n",
              "      border-color: transparent;\n",
              "      border-right-color: var(--fill-color);\n",
              "    }\n",
              "    80% {\n",
              "      border-color: transparent;\n",
              "      border-right-color: var(--fill-color);\n",
              "      border-bottom-color: var(--fill-color);\n",
              "    }\n",
              "    90% {\n",
              "      border-color: transparent;\n",
              "      border-bottom-color: var(--fill-color);\n",
              "    }\n",
              "  }\n",
              "</style>\n",
              "\n",
              "  <script>\n",
              "    async function quickchart(key) {\n",
              "      const quickchartButtonEl =\n",
              "        document.querySelector('#' + key + ' button');\n",
              "      quickchartButtonEl.disabled = true;  // To prevent multiple clicks.\n",
              "      quickchartButtonEl.classList.add('colab-df-spinner');\n",
              "      try {\n",
              "        const charts = await google.colab.kernel.invokeFunction(\n",
              "            'suggestCharts', [key], {});\n",
              "      } catch (error) {\n",
              "        console.error('Error during call to suggestCharts:', error);\n",
              "      }\n",
              "      quickchartButtonEl.classList.remove('colab-df-spinner');\n",
              "      quickchartButtonEl.classList.add('colab-df-quickchart-complete');\n",
              "    }\n",
              "    (() => {\n",
              "      let quickchartButtonEl =\n",
              "        document.querySelector('#df-5b4edf53-09cb-4680-815c-add7766419f7 button');\n",
              "      quickchartButtonEl.style.display =\n",
              "        google.colab.kernel.accessAllowed ? 'block' : 'none';\n",
              "    })();\n",
              "  </script>\n",
              "</div>\n",
              "\n",
              "    </div>\n",
              "  </div>\n"
            ],
            "application/vnd.google.colaboratory.intrinsic+json": {
              "type": "dataframe",
              "variable_name": "customer_df",
              "summary": "{\n  \"name\": \"customer_df\",\n  \"rows\": 10695,\n  \"fields\": [\n    {\n      \"column\": \"ID\",\n      \"properties\": {\n        \"dtype\": \"number\",\n        \"std\": 2600,\n        \"min\": 458982,\n        \"max\": 467974,\n        \"num_unique_values\": 8363,\n        \"samples\": [\n          464796,\n          465198,\n          461563\n        ],\n        \"semantic_type\": \"\",\n        \"description\": \"\"\n      }\n    },\n    {\n      \"column\": \"Gender\",\n      \"properties\": {\n        \"dtype\": \"category\",\n        \"num_unique_values\": 2,\n        \"samples\": [\n          \"Female\",\n          \"Male\"\n        ],\n        \"semantic_type\": \"\",\n        \"description\": \"\"\n      }\n    },\n    {\n      \"column\": \"Ever_Married\",\n      \"properties\": {\n        \"dtype\": \"category\",\n        \"num_unique_values\": 2,\n        \"samples\": [\n          \"Yes\",\n          \"No\"\n        ],\n        \"semantic_type\": \"\",\n        \"description\": \"\"\n      }\n    },\n    {\n      \"column\": \"Age\",\n      \"properties\": {\n        \"dtype\": \"number\",\n        \"std\": 16,\n        \"min\": 18,\n        \"max\": 89,\n        \"num_unique_values\": 67,\n        \"samples\": [\n          30,\n          49\n        ],\n        \"semantic_type\": \"\",\n        \"description\": \"\"\n      }\n    },\n    {\n      \"column\": \"Graduated\",\n      \"properties\": {\n        \"dtype\": \"category\",\n        \"num_unique_values\": 2,\n        \"samples\": [\n          \"Yes\",\n          \"No\"\n        ],\n        \"semantic_type\": \"\",\n        \"description\": \"\"\n      }\n    },\n    {\n      \"column\": \"Profession\",\n      \"properties\": {\n        \"dtype\": \"category\",\n        \"num_unique_values\": 9,\n        \"samples\": [\n          \"Homemaker\",\n          \"Engineer\"\n        ],\n        \"semantic_type\": \"\",\n        \"description\": \"\"\n      }\n    },\n    {\n      \"column\": \"Work_Experience\",\n      \"properties\": {\n        \"dtype\": \"number\",\n        \"std\": 3.3907895488161914,\n        \"min\": 0.0,\n        \"max\": 14.0,\n        \"num_unique_values\": 15,\n        \"samples\": [\n          14.0,\n          2.0\n        ],\n        \"semantic_type\": \"\",\n        \"description\": \"\"\n      }\n    },\n    {\n      \"column\": \"Spending_Score\",\n      \"properties\": {\n        \"dtype\": \"category\",\n        \"num_unique_values\": 3,\n        \"samples\": [\n          \"Low\",\n          \"Average\"\n        ],\n        \"semantic_type\": \"\",\n        \"description\": \"\"\n      }\n    },\n    {\n      \"column\": \"Family_Size\",\n      \"properties\": {\n        \"dtype\": \"number\",\n        \"std\": 1.5364271953729582,\n        \"min\": 1.0,\n        \"max\": 9.0,\n        \"num_unique_values\": 9,\n        \"samples\": [\n          7.0,\n          3.0\n        ],\n        \"semantic_type\": \"\",\n        \"description\": \"\"\n      }\n    },\n    {\n      \"column\": \"Var_1\",\n      \"properties\": {\n        \"dtype\": \"category\",\n        \"num_unique_values\": 7,\n        \"samples\": [\n          \"Cat_4\",\n          \"Cat_6\"\n        ],\n        \"semantic_type\": \"\",\n        \"description\": \"\"\n      }\n    },\n    {\n      \"column\": \"Segmentation\",\n      \"properties\": {\n        \"dtype\": \"category\",\n        \"num_unique_values\": 4,\n        \"samples\": [\n          \"A\",\n          \"C\"\n        ],\n        \"semantic_type\": \"\",\n        \"description\": \"\"\n      }\n    }\n  ]\n}"
            }
          },
          "metadata": {},
          "execution_count": 67
        }
      ]
    },
    {
      "cell_type": "code",
      "execution_count": 5,
      "metadata": {
        "colab": {
          "base_uri": "https://localhost:8080/"
        },
        "id": "S-g5es7sr-63",
        "outputId": "68aa8d6e-52db-4727-8ed0-1551d03008aa"
      },
      "outputs": [
        {
          "output_type": "execute_result",
          "data": {
            "text/plain": [
              "Index(['ID', 'Gender', 'Ever_Married', 'Age', 'Graduated', 'Profession',\n",
              "       'Work_Experience', 'Spending_Score', 'Family_Size', 'Var_1',\n",
              "       'Segmentation'],\n",
              "      dtype='object')"
            ]
          },
          "metadata": {},
          "execution_count": 5
        }
      ],
      "source": [
        "customer_df.columns"
      ]
    },
    {
      "cell_type": "code",
      "execution_count": 6,
      "metadata": {
        "colab": {
          "base_uri": "https://localhost:8080/"
        },
        "id": "KSI4Bpc7r_BE",
        "outputId": "abd4f5c0-b668-4b33-d9fa-6a94cb74a292"
      },
      "outputs": [
        {
          "output_type": "execute_result",
          "data": {
            "text/plain": [
              "ID                   int64\n",
              "Gender              object\n",
              "Ever_Married        object\n",
              "Age                  int64\n",
              "Graduated           object\n",
              "Profession          object\n",
              "Work_Experience    float64\n",
              "Spending_Score      object\n",
              "Family_Size        float64\n",
              "Var_1               object\n",
              "Segmentation        object\n",
              "dtype: object"
            ]
          },
          "metadata": {},
          "execution_count": 6
        }
      ],
      "source": [
        "customer_df.dtypes"
      ]
    },
    {
      "cell_type": "code",
      "execution_count": 7,
      "metadata": {
        "colab": {
          "base_uri": "https://localhost:8080/"
        },
        "id": "EzSu9RtMsGOu",
        "outputId": "4f8d965b-0585-4aa3-9552-1c6bcb7601b0"
      },
      "outputs": [
        {
          "output_type": "execute_result",
          "data": {
            "text/plain": [
              "(10695, 11)"
            ]
          },
          "metadata": {},
          "execution_count": 7
        }
      ],
      "source": [
        "customer_df.shape"
      ]
    },
    {
      "cell_type": "code",
      "execution_count": 8,
      "metadata": {
        "colab": {
          "base_uri": "https://localhost:8080/"
        },
        "id": "HiW3RZKssGSH",
        "outputId": "0192e83b-1520-44a3-e187-ec2ad41489ce"
      },
      "outputs": [
        {
          "output_type": "execute_result",
          "data": {
            "text/plain": [
              "ID                    0\n",
              "Gender                0\n",
              "Ever_Married        190\n",
              "Age                   0\n",
              "Graduated           102\n",
              "Profession          162\n",
              "Work_Experience    1098\n",
              "Spending_Score        0\n",
              "Family_Size         448\n",
              "Var_1               108\n",
              "Segmentation          0\n",
              "dtype: int64"
            ]
          },
          "metadata": {},
          "execution_count": 8
        }
      ],
      "source": [
        "customer_df.isnull().sum()"
      ]
    },
    {
      "cell_type": "code",
      "execution_count": 9,
      "metadata": {
        "id": "7juvGvO5sNp3"
      },
      "outputs": [],
      "source": [
        "customer_df_cleaned = customer_df.dropna(axis=0)"
      ]
    },
    {
      "cell_type": "code",
      "execution_count": 10,
      "metadata": {
        "colab": {
          "base_uri": "https://localhost:8080/"
        },
        "id": "SQELh2VLsNsS",
        "outputId": "6c64dffc-7920-48e5-8dfd-e9a637fb0a84"
      },
      "outputs": [
        {
          "output_type": "execute_result",
          "data": {
            "text/plain": [
              "ID                 0\n",
              "Gender             0\n",
              "Ever_Married       0\n",
              "Age                0\n",
              "Graduated          0\n",
              "Profession         0\n",
              "Work_Experience    0\n",
              "Spending_Score     0\n",
              "Family_Size        0\n",
              "Var_1              0\n",
              "Segmentation       0\n",
              "dtype: int64"
            ]
          },
          "metadata": {},
          "execution_count": 10
        }
      ],
      "source": [
        "customer_df_cleaned.isnull().sum()"
      ]
    },
    {
      "cell_type": "code",
      "execution_count": 11,
      "metadata": {
        "colab": {
          "base_uri": "https://localhost:8080/"
        },
        "id": "TZOdUlXQsNvs",
        "outputId": "20f80464-4300-4053-c90a-e7e240cc1a99"
      },
      "outputs": [
        {
          "output_type": "execute_result",
          "data": {
            "text/plain": [
              "(8819, 11)"
            ]
          },
          "metadata": {},
          "execution_count": 11
        }
      ],
      "source": [
        "customer_df_cleaned.shape"
      ]
    },
    {
      "cell_type": "code",
      "execution_count": 12,
      "metadata": {
        "colab": {
          "base_uri": "https://localhost:8080/"
        },
        "id": "NUNQwuG4sjH7",
        "outputId": "f901b490-eaa3-42d4-9243-02bdbb9fb9ba"
      },
      "outputs": [
        {
          "output_type": "execute_result",
          "data": {
            "text/plain": [
              "ID                   int64\n",
              "Gender              object\n",
              "Ever_Married        object\n",
              "Age                  int64\n",
              "Graduated           object\n",
              "Profession          object\n",
              "Work_Experience    float64\n",
              "Spending_Score      object\n",
              "Family_Size        float64\n",
              "Var_1               object\n",
              "Segmentation        object\n",
              "dtype: object"
            ]
          },
          "metadata": {},
          "execution_count": 12
        }
      ],
      "source": [
        "customer_df_cleaned.dtypes"
      ]
    },
    {
      "cell_type": "code",
      "execution_count": 13,
      "metadata": {
        "colab": {
          "base_uri": "https://localhost:8080/"
        },
        "id": "xF2gUGmYsrg0",
        "outputId": "4a2a7114-e0c3-48f1-8958-cbb008915549"
      },
      "outputs": [
        {
          "output_type": "execute_result",
          "data": {
            "text/plain": [
              "array(['Male', 'Female'], dtype=object)"
            ]
          },
          "metadata": {},
          "execution_count": 13
        }
      ],
      "source": [
        "customer_df_cleaned['Gender'].unique()"
      ]
    },
    {
      "cell_type": "code",
      "execution_count": 14,
      "metadata": {
        "colab": {
          "base_uri": "https://localhost:8080/"
        },
        "id": "tFPl1KwRsrl9",
        "outputId": "aebec3ac-dcb9-4b22-bc6f-a86f6f1629d8"
      },
      "outputs": [
        {
          "output_type": "execute_result",
          "data": {
            "text/plain": [
              "array(['No', 'Yes'], dtype=object)"
            ]
          },
          "metadata": {},
          "execution_count": 14
        }
      ],
      "source": [
        "customer_df_cleaned['Ever_Married'].unique()"
      ]
    },
    {
      "cell_type": "code",
      "execution_count": 15,
      "metadata": {
        "colab": {
          "base_uri": "https://localhost:8080/"
        },
        "id": "EV94jfDwsjLW",
        "outputId": "8ee88f6a-8ab9-46af-816b-a782ee176a34"
      },
      "outputs": [
        {
          "output_type": "execute_result",
          "data": {
            "text/plain": [
              "array(['No', 'Yes'], dtype=object)"
            ]
          },
          "metadata": {},
          "execution_count": 15
        }
      ],
      "source": [
        "customer_df_cleaned['Graduated'].unique()"
      ]
    },
    {
      "cell_type": "code",
      "execution_count": 16,
      "metadata": {
        "colab": {
          "base_uri": "https://localhost:8080/"
        },
        "id": "McEYvVCQtBaP",
        "outputId": "905790ec-a026-4468-a6fc-61a4845a8ccf"
      },
      "outputs": [
        {
          "output_type": "execute_result",
          "data": {
            "text/plain": [
              "array(['Healthcare', 'Engineer', 'Lawyer', 'Artist', 'Doctor',\n",
              "       'Homemaker', 'Entertainment', 'Marketing', 'Executive'],\n",
              "      dtype=object)"
            ]
          },
          "metadata": {},
          "execution_count": 16
        }
      ],
      "source": [
        "customer_df_cleaned['Profession'].unique()"
      ]
    },
    {
      "cell_type": "code",
      "execution_count": 17,
      "metadata": {
        "colab": {
          "base_uri": "https://localhost:8080/"
        },
        "id": "2xPs6M-_tBdv",
        "outputId": "cf74b25e-e82b-4481-9622-ceffec4c49d1"
      },
      "outputs": [
        {
          "output_type": "execute_result",
          "data": {
            "text/plain": [
              "array(['Low', 'High', 'Average'], dtype=object)"
            ]
          },
          "metadata": {},
          "execution_count": 17
        }
      ],
      "source": [
        "customer_df_cleaned['Spending_Score'].unique()"
      ]
    },
    {
      "cell_type": "code",
      "execution_count": 18,
      "metadata": {
        "colab": {
          "base_uri": "https://localhost:8080/"
        },
        "id": "GDUUlitFtK-U",
        "outputId": "2b09a88f-e2ff-4a6e-bf79-c7646d6d1608"
      },
      "outputs": [
        {
          "output_type": "execute_result",
          "data": {
            "text/plain": [
              "array(['Cat_4', 'Cat_6', 'Cat_7', 'Cat_3', 'Cat_1', 'Cat_2', 'Cat_5'],\n",
              "      dtype=object)"
            ]
          },
          "metadata": {},
          "execution_count": 18
        }
      ],
      "source": [
        "customer_df_cleaned['Var_1'].unique()"
      ]
    },
    {
      "cell_type": "code",
      "execution_count": 19,
      "metadata": {
        "colab": {
          "base_uri": "https://localhost:8080/"
        },
        "id": "EMllMvActLBv",
        "outputId": "8396a148-4bb9-4685-8137-ce27a559762e"
      },
      "outputs": [
        {
          "output_type": "execute_result",
          "data": {
            "text/plain": [
              "array(['D', 'B', 'C', 'A'], dtype=object)"
            ]
          },
          "metadata": {},
          "execution_count": 19
        }
      ],
      "source": [
        "customer_df_cleaned['Segmentation'].unique()"
      ]
    },
    {
      "cell_type": "code",
      "execution_count": 20,
      "metadata": {
        "id": "yY6YctILtV88"
      },
      "outputs": [],
      "source": [
        "categories_list=[['Male', 'Female'],\n",
        "           ['No', 'Yes'],\n",
        "           ['No', 'Yes'],\n",
        "           ['Healthcare', 'Engineer', 'Lawyer', 'Artist', 'Doctor',\n",
        "            'Homemaker', 'Entertainment', 'Marketing', 'Executive'],\n",
        "           ['Low', 'Average', 'High']\n",
        "           ]"
      ]
    },
    {
      "cell_type": "code",
      "execution_count": 21,
      "metadata": {
        "id": "AzUwKXkjtWIc"
      },
      "outputs": [],
      "source": [
        "enc = OrdinalEncoder(categories=categories_list)"
      ]
    },
    {
      "cell_type": "code",
      "execution_count": 22,
      "metadata": {
        "id": "j2tfSMCt1ToH"
      },
      "outputs": [],
      "source": [
        "customers_1 = customer_df_cleaned.copy()"
      ]
    },
    {
      "cell_type": "code",
      "execution_count": 23,
      "metadata": {
        "id": "4Q6Y40_A1Tt9"
      },
      "outputs": [],
      "source": [
        "customers_1[['Gender','Ever_Married','Graduated','Profession','Spending_Score']] = enc.fit_transform(customers_1[['Gender','Ever_Married','Graduated','Profession','Spending_Score']])"
      ]
    },
    {
      "cell_type": "code",
      "execution_count": 24,
      "metadata": {
        "colab": {
          "base_uri": "https://localhost:8080/"
        },
        "id": "Xg1Its9P12uy",
        "outputId": "a4cf6017-6fc1-4b20-ca06-6ec75c15c9bf"
      },
      "outputs": [
        {
          "output_type": "execute_result",
          "data": {
            "text/plain": [
              "ID                   int64\n",
              "Gender             float64\n",
              "Ever_Married       float64\n",
              "Age                  int64\n",
              "Graduated          float64\n",
              "Profession         float64\n",
              "Work_Experience    float64\n",
              "Spending_Score     float64\n",
              "Family_Size        float64\n",
              "Var_1               object\n",
              "Segmentation        object\n",
              "dtype: object"
            ]
          },
          "metadata": {},
          "execution_count": 24
        }
      ],
      "source": [
        "customers_1.dtypes"
      ]
    },
    {
      "cell_type": "code",
      "execution_count": 25,
      "metadata": {
        "id": "q3QzC6ou12yW"
      },
      "outputs": [],
      "source": [
        "le = LabelEncoder()"
      ]
    },
    {
      "cell_type": "code",
      "execution_count": 26,
      "metadata": {
        "id": "Tu16TJeS1_7L"
      },
      "outputs": [],
      "source": [
        "customers_1['Segmentation'] = le.fit_transform(customers_1['Segmentation'])"
      ]
    },
    {
      "cell_type": "code",
      "execution_count": 27,
      "metadata": {
        "colab": {
          "base_uri": "https://localhost:8080/"
        },
        "id": "aNnk2PYf1_-w",
        "outputId": "97f2d083-f3da-490a-9e65-69934b0f6d7a"
      },
      "outputs": [
        {
          "output_type": "execute_result",
          "data": {
            "text/plain": [
              "ID                   int64\n",
              "Gender             float64\n",
              "Ever_Married       float64\n",
              "Age                  int64\n",
              "Graduated          float64\n",
              "Profession         float64\n",
              "Work_Experience    float64\n",
              "Spending_Score     float64\n",
              "Family_Size        float64\n",
              "Var_1               object\n",
              "Segmentation         int64\n",
              "dtype: object"
            ]
          },
          "metadata": {},
          "execution_count": 27
        }
      ],
      "source": [
        "customers_1.dtypes"
      ]
    },
    {
      "cell_type": "code",
      "execution_count": 28,
      "metadata": {
        "id": "PPFPZt2w2FWq"
      },
      "outputs": [],
      "source": [
        "customers_1 = customers_1.drop('ID',axis=1)"
      ]
    },
    {
      "cell_type": "code",
      "execution_count": 29,
      "metadata": {
        "id": "7BVJ8pgy2FbZ"
      },
      "outputs": [],
      "source": [
        "customers_1 = customers_1.drop('Var_1',axis=1)"
      ]
    },
    {
      "cell_type": "code",
      "execution_count": 30,
      "metadata": {
        "colab": {
          "base_uri": "https://localhost:8080/"
        },
        "id": "Bf74PE2-2TYs",
        "outputId": "2f3993db-67d4-4735-df4f-80fca6ea0f5a"
      },
      "outputs": [
        {
          "output_type": "execute_result",
          "data": {
            "text/plain": [
              "Gender             float64\n",
              "Ever_Married       float64\n",
              "Age                  int64\n",
              "Graduated          float64\n",
              "Profession         float64\n",
              "Work_Experience    float64\n",
              "Spending_Score     float64\n",
              "Family_Size        float64\n",
              "Segmentation         int64\n",
              "dtype: object"
            ]
          },
          "metadata": {},
          "execution_count": 30
        }
      ],
      "source": [
        "customers_1.dtypes"
      ]
    },
    {
      "cell_type": "code",
      "execution_count": 31,
      "metadata": {
        "colab": {
          "base_uri": "https://localhost:8080/",
          "height": 300
        },
        "id": "bx10qreF3Yv1",
        "outputId": "09f4a83b-6193-41c5-8a0f-b86ee0359494"
      },
      "outputs": [
        {
          "output_type": "execute_result",
          "data": {
            "text/plain": [
              "            Gender  Ever_Married          Age    Graduated   Profession  \\\n",
              "count  8819.000000   8819.000000  8819.000000  8819.000000  8819.000000   \n",
              "mean      0.448804      0.591450    43.517859     0.634312     3.287561   \n",
              "std       0.497400      0.491594    16.581537     0.481650     2.346652   \n",
              "min       0.000000      0.000000    18.000000     0.000000     0.000000   \n",
              "25%       0.000000      0.000000    31.000000     0.000000     2.000000   \n",
              "50%       0.000000      1.000000    41.000000     1.000000     3.000000   \n",
              "75%       1.000000      1.000000    53.000000     1.000000     5.000000   \n",
              "max       1.000000      1.000000    89.000000     1.000000     8.000000   \n",
              "\n",
              "       Work_Experience  Spending_Score  Family_Size  Segmentation  \n",
              "count      8819.000000     8819.000000  8819.000000   8819.000000  \n",
              "mean          2.610160        0.544846     2.840118      1.518086  \n",
              "std           3.390676        0.738487     1.535051      1.146645  \n",
              "min           0.000000        0.000000     1.000000      0.000000  \n",
              "25%           0.000000        0.000000     2.000000      0.000000  \n",
              "50%           1.000000        0.000000     2.000000      2.000000  \n",
              "75%           4.000000        1.000000     4.000000      3.000000  \n",
              "max          14.000000        2.000000     9.000000      3.000000  "
            ],
            "text/html": [
              "\n",
              "  <div id=\"df-0c12f83e-a741-477c-91f9-4e87cef055af\" class=\"colab-df-container\">\n",
              "    <div>\n",
              "<style scoped>\n",
              "    .dataframe tbody tr th:only-of-type {\n",
              "        vertical-align: middle;\n",
              "    }\n",
              "\n",
              "    .dataframe tbody tr th {\n",
              "        vertical-align: top;\n",
              "    }\n",
              "\n",
              "    .dataframe thead th {\n",
              "        text-align: right;\n",
              "    }\n",
              "</style>\n",
              "<table border=\"1\" class=\"dataframe\">\n",
              "  <thead>\n",
              "    <tr style=\"text-align: right;\">\n",
              "      <th></th>\n",
              "      <th>Gender</th>\n",
              "      <th>Ever_Married</th>\n",
              "      <th>Age</th>\n",
              "      <th>Graduated</th>\n",
              "      <th>Profession</th>\n",
              "      <th>Work_Experience</th>\n",
              "      <th>Spending_Score</th>\n",
              "      <th>Family_Size</th>\n",
              "      <th>Segmentation</th>\n",
              "    </tr>\n",
              "  </thead>\n",
              "  <tbody>\n",
              "    <tr>\n",
              "      <th>count</th>\n",
              "      <td>8819.000000</td>\n",
              "      <td>8819.000000</td>\n",
              "      <td>8819.000000</td>\n",
              "      <td>8819.000000</td>\n",
              "      <td>8819.000000</td>\n",
              "      <td>8819.000000</td>\n",
              "      <td>8819.000000</td>\n",
              "      <td>8819.000000</td>\n",
              "      <td>8819.000000</td>\n",
              "    </tr>\n",
              "    <tr>\n",
              "      <th>mean</th>\n",
              "      <td>0.448804</td>\n",
              "      <td>0.591450</td>\n",
              "      <td>43.517859</td>\n",
              "      <td>0.634312</td>\n",
              "      <td>3.287561</td>\n",
              "      <td>2.610160</td>\n",
              "      <td>0.544846</td>\n",
              "      <td>2.840118</td>\n",
              "      <td>1.518086</td>\n",
              "    </tr>\n",
              "    <tr>\n",
              "      <th>std</th>\n",
              "      <td>0.497400</td>\n",
              "      <td>0.491594</td>\n",
              "      <td>16.581537</td>\n",
              "      <td>0.481650</td>\n",
              "      <td>2.346652</td>\n",
              "      <td>3.390676</td>\n",
              "      <td>0.738487</td>\n",
              "      <td>1.535051</td>\n",
              "      <td>1.146645</td>\n",
              "    </tr>\n",
              "    <tr>\n",
              "      <th>min</th>\n",
              "      <td>0.000000</td>\n",
              "      <td>0.000000</td>\n",
              "      <td>18.000000</td>\n",
              "      <td>0.000000</td>\n",
              "      <td>0.000000</td>\n",
              "      <td>0.000000</td>\n",
              "      <td>0.000000</td>\n",
              "      <td>1.000000</td>\n",
              "      <td>0.000000</td>\n",
              "    </tr>\n",
              "    <tr>\n",
              "      <th>25%</th>\n",
              "      <td>0.000000</td>\n",
              "      <td>0.000000</td>\n",
              "      <td>31.000000</td>\n",
              "      <td>0.000000</td>\n",
              "      <td>2.000000</td>\n",
              "      <td>0.000000</td>\n",
              "      <td>0.000000</td>\n",
              "      <td>2.000000</td>\n",
              "      <td>0.000000</td>\n",
              "    </tr>\n",
              "    <tr>\n",
              "      <th>50%</th>\n",
              "      <td>0.000000</td>\n",
              "      <td>1.000000</td>\n",
              "      <td>41.000000</td>\n",
              "      <td>1.000000</td>\n",
              "      <td>3.000000</td>\n",
              "      <td>1.000000</td>\n",
              "      <td>0.000000</td>\n",
              "      <td>2.000000</td>\n",
              "      <td>2.000000</td>\n",
              "    </tr>\n",
              "    <tr>\n",
              "      <th>75%</th>\n",
              "      <td>1.000000</td>\n",
              "      <td>1.000000</td>\n",
              "      <td>53.000000</td>\n",
              "      <td>1.000000</td>\n",
              "      <td>5.000000</td>\n",
              "      <td>4.000000</td>\n",
              "      <td>1.000000</td>\n",
              "      <td>4.000000</td>\n",
              "      <td>3.000000</td>\n",
              "    </tr>\n",
              "    <tr>\n",
              "      <th>max</th>\n",
              "      <td>1.000000</td>\n",
              "      <td>1.000000</td>\n",
              "      <td>89.000000</td>\n",
              "      <td>1.000000</td>\n",
              "      <td>8.000000</td>\n",
              "      <td>14.000000</td>\n",
              "      <td>2.000000</td>\n",
              "      <td>9.000000</td>\n",
              "      <td>3.000000</td>\n",
              "    </tr>\n",
              "  </tbody>\n",
              "</table>\n",
              "</div>\n",
              "    <div class=\"colab-df-buttons\">\n",
              "\n",
              "  <div class=\"colab-df-container\">\n",
              "    <button class=\"colab-df-convert\" onclick=\"convertToInteractive('df-0c12f83e-a741-477c-91f9-4e87cef055af')\"\n",
              "            title=\"Convert this dataframe to an interactive table.\"\n",
              "            style=\"display:none;\">\n",
              "\n",
              "  <svg xmlns=\"http://www.w3.org/2000/svg\" height=\"24px\" viewBox=\"0 -960 960 960\">\n",
              "    <path d=\"M120-120v-720h720v720H120Zm60-500h600v-160H180v160Zm220 220h160v-160H400v160Zm0 220h160v-160H400v160ZM180-400h160v-160H180v160Zm440 0h160v-160H620v160ZM180-180h160v-160H180v160Zm440 0h160v-160H620v160Z\"/>\n",
              "  </svg>\n",
              "    </button>\n",
              "\n",
              "  <style>\n",
              "    .colab-df-container {\n",
              "      display:flex;\n",
              "      gap: 12px;\n",
              "    }\n",
              "\n",
              "    .colab-df-convert {\n",
              "      background-color: #E8F0FE;\n",
              "      border: none;\n",
              "      border-radius: 50%;\n",
              "      cursor: pointer;\n",
              "      display: none;\n",
              "      fill: #1967D2;\n",
              "      height: 32px;\n",
              "      padding: 0 0 0 0;\n",
              "      width: 32px;\n",
              "    }\n",
              "\n",
              "    .colab-df-convert:hover {\n",
              "      background-color: #E2EBFA;\n",
              "      box-shadow: 0px 1px 2px rgba(60, 64, 67, 0.3), 0px 1px 3px 1px rgba(60, 64, 67, 0.15);\n",
              "      fill: #174EA6;\n",
              "    }\n",
              "\n",
              "    .colab-df-buttons div {\n",
              "      margin-bottom: 4px;\n",
              "    }\n",
              "\n",
              "    [theme=dark] .colab-df-convert {\n",
              "      background-color: #3B4455;\n",
              "      fill: #D2E3FC;\n",
              "    }\n",
              "\n",
              "    [theme=dark] .colab-df-convert:hover {\n",
              "      background-color: #434B5C;\n",
              "      box-shadow: 0px 1px 3px 1px rgba(0, 0, 0, 0.15);\n",
              "      filter: drop-shadow(0px 1px 2px rgba(0, 0, 0, 0.3));\n",
              "      fill: #FFFFFF;\n",
              "    }\n",
              "  </style>\n",
              "\n",
              "    <script>\n",
              "      const buttonEl =\n",
              "        document.querySelector('#df-0c12f83e-a741-477c-91f9-4e87cef055af button.colab-df-convert');\n",
              "      buttonEl.style.display =\n",
              "        google.colab.kernel.accessAllowed ? 'block' : 'none';\n",
              "\n",
              "      async function convertToInteractive(key) {\n",
              "        const element = document.querySelector('#df-0c12f83e-a741-477c-91f9-4e87cef055af');\n",
              "        const dataTable =\n",
              "          await google.colab.kernel.invokeFunction('convertToInteractive',\n",
              "                                                    [key], {});\n",
              "        if (!dataTable) return;\n",
              "\n",
              "        const docLinkHtml = 'Like what you see? Visit the ' +\n",
              "          '<a target=\"_blank\" href=https://colab.research.google.com/notebooks/data_table.ipynb>data table notebook</a>'\n",
              "          + ' to learn more about interactive tables.';\n",
              "        element.innerHTML = '';\n",
              "        dataTable['output_type'] = 'display_data';\n",
              "        await google.colab.output.renderOutput(dataTable, element);\n",
              "        const docLink = document.createElement('div');\n",
              "        docLink.innerHTML = docLinkHtml;\n",
              "        element.appendChild(docLink);\n",
              "      }\n",
              "    </script>\n",
              "  </div>\n",
              "\n",
              "\n",
              "<div id=\"df-9620883c-a5b5-4755-a44a-13c19a70d0fb\">\n",
              "  <button class=\"colab-df-quickchart\" onclick=\"quickchart('df-9620883c-a5b5-4755-a44a-13c19a70d0fb')\"\n",
              "            title=\"Suggest charts\"\n",
              "            style=\"display:none;\">\n",
              "\n",
              "<svg xmlns=\"http://www.w3.org/2000/svg\" height=\"24px\"viewBox=\"0 0 24 24\"\n",
              "     width=\"24px\">\n",
              "    <g>\n",
              "        <path d=\"M19 3H5c-1.1 0-2 .9-2 2v14c0 1.1.9 2 2 2h14c1.1 0 2-.9 2-2V5c0-1.1-.9-2-2-2zM9 17H7v-7h2v7zm4 0h-2V7h2v10zm4 0h-2v-4h2v4z\"/>\n",
              "    </g>\n",
              "</svg>\n",
              "  </button>\n",
              "\n",
              "<style>\n",
              "  .colab-df-quickchart {\n",
              "      --bg-color: #E8F0FE;\n",
              "      --fill-color: #1967D2;\n",
              "      --hover-bg-color: #E2EBFA;\n",
              "      --hover-fill-color: #174EA6;\n",
              "      --disabled-fill-color: #AAA;\n",
              "      --disabled-bg-color: #DDD;\n",
              "  }\n",
              "\n",
              "  [theme=dark] .colab-df-quickchart {\n",
              "      --bg-color: #3B4455;\n",
              "      --fill-color: #D2E3FC;\n",
              "      --hover-bg-color: #434B5C;\n",
              "      --hover-fill-color: #FFFFFF;\n",
              "      --disabled-bg-color: #3B4455;\n",
              "      --disabled-fill-color: #666;\n",
              "  }\n",
              "\n",
              "  .colab-df-quickchart {\n",
              "    background-color: var(--bg-color);\n",
              "    border: none;\n",
              "    border-radius: 50%;\n",
              "    cursor: pointer;\n",
              "    display: none;\n",
              "    fill: var(--fill-color);\n",
              "    height: 32px;\n",
              "    padding: 0;\n",
              "    width: 32px;\n",
              "  }\n",
              "\n",
              "  .colab-df-quickchart:hover {\n",
              "    background-color: var(--hover-bg-color);\n",
              "    box-shadow: 0 1px 2px rgba(60, 64, 67, 0.3), 0 1px 3px 1px rgba(60, 64, 67, 0.15);\n",
              "    fill: var(--button-hover-fill-color);\n",
              "  }\n",
              "\n",
              "  .colab-df-quickchart-complete:disabled,\n",
              "  .colab-df-quickchart-complete:disabled:hover {\n",
              "    background-color: var(--disabled-bg-color);\n",
              "    fill: var(--disabled-fill-color);\n",
              "    box-shadow: none;\n",
              "  }\n",
              "\n",
              "  .colab-df-spinner {\n",
              "    border: 2px solid var(--fill-color);\n",
              "    border-color: transparent;\n",
              "    border-bottom-color: var(--fill-color);\n",
              "    animation:\n",
              "      spin 1s steps(1) infinite;\n",
              "  }\n",
              "\n",
              "  @keyframes spin {\n",
              "    0% {\n",
              "      border-color: transparent;\n",
              "      border-bottom-color: var(--fill-color);\n",
              "      border-left-color: var(--fill-color);\n",
              "    }\n",
              "    20% {\n",
              "      border-color: transparent;\n",
              "      border-left-color: var(--fill-color);\n",
              "      border-top-color: var(--fill-color);\n",
              "    }\n",
              "    30% {\n",
              "      border-color: transparent;\n",
              "      border-left-color: var(--fill-color);\n",
              "      border-top-color: var(--fill-color);\n",
              "      border-right-color: var(--fill-color);\n",
              "    }\n",
              "    40% {\n",
              "      border-color: transparent;\n",
              "      border-right-color: var(--fill-color);\n",
              "      border-top-color: var(--fill-color);\n",
              "    }\n",
              "    60% {\n",
              "      border-color: transparent;\n",
              "      border-right-color: var(--fill-color);\n",
              "    }\n",
              "    80% {\n",
              "      border-color: transparent;\n",
              "      border-right-color: var(--fill-color);\n",
              "      border-bottom-color: var(--fill-color);\n",
              "    }\n",
              "    90% {\n",
              "      border-color: transparent;\n",
              "      border-bottom-color: var(--fill-color);\n",
              "    }\n",
              "  }\n",
              "</style>\n",
              "\n",
              "  <script>\n",
              "    async function quickchart(key) {\n",
              "      const quickchartButtonEl =\n",
              "        document.querySelector('#' + key + ' button');\n",
              "      quickchartButtonEl.disabled = true;  // To prevent multiple clicks.\n",
              "      quickchartButtonEl.classList.add('colab-df-spinner');\n",
              "      try {\n",
              "        const charts = await google.colab.kernel.invokeFunction(\n",
              "            'suggestCharts', [key], {});\n",
              "      } catch (error) {\n",
              "        console.error('Error during call to suggestCharts:', error);\n",
              "      }\n",
              "      quickchartButtonEl.classList.remove('colab-df-spinner');\n",
              "      quickchartButtonEl.classList.add('colab-df-quickchart-complete');\n",
              "    }\n",
              "    (() => {\n",
              "      let quickchartButtonEl =\n",
              "        document.querySelector('#df-9620883c-a5b5-4755-a44a-13c19a70d0fb button');\n",
              "      quickchartButtonEl.style.display =\n",
              "        google.colab.kernel.accessAllowed ? 'block' : 'none';\n",
              "    })();\n",
              "  </script>\n",
              "</div>\n",
              "\n",
              "    </div>\n",
              "  </div>\n"
            ],
            "application/vnd.google.colaboratory.intrinsic+json": {
              "type": "dataframe",
              "summary": "{\n  \"name\": \"customers_1\",\n  \"rows\": 8,\n  \"fields\": [\n    {\n      \"column\": \"Gender\",\n      \"properties\": {\n        \"dtype\": \"number\",\n        \"std\": 3117.8385735644974,\n        \"min\": 0.0,\n        \"max\": 8819.0,\n        \"num_unique_values\": 5,\n        \"samples\": [\n          0.44880371924254453,\n          1.0,\n          0.4974002359237323\n        ],\n        \"semantic_type\": \"\",\n        \"description\": \"\"\n      }\n    },\n    {\n      \"column\": \"Ever_Married\",\n      \"properties\": {\n        \"dtype\": \"number\",\n        \"std\": 3117.781154503104,\n        \"min\": 0.0,\n        \"max\": 8819.0,\n        \"num_unique_values\": 5,\n        \"samples\": [\n          0.5914502778092754,\n          1.0,\n          0.4915935814982178\n        ],\n        \"semantic_type\": \"\",\n        \"description\": \"\"\n      }\n    },\n    {\n      \"column\": \"Age\",\n      \"properties\": {\n        \"dtype\": \"number\",\n        \"std\": 3103.3187126345056,\n        \"min\": 16.58153711917013,\n        \"max\": 8819.0,\n        \"num_unique_values\": 8,\n        \"samples\": [\n          43.51785916770609,\n          41.0,\n          8819.0\n        ],\n        \"semantic_type\": \"\",\n        \"description\": \"\"\n      }\n    },\n    {\n      \"column\": \"Graduated\",\n      \"properties\": {\n        \"dtype\": \"number\",\n        \"std\": 3117.779491981186,\n        \"min\": 0.0,\n        \"max\": 8819.0,\n        \"num_unique_values\": 5,\n        \"samples\": [\n          0.6343122803038893,\n          1.0,\n          0.4816497863263137\n        ],\n        \"semantic_type\": \"\",\n        \"description\": \"\"\n      }\n    },\n    {\n      \"column\": \"Profession\",\n      \"properties\": {\n        \"dtype\": \"number\",\n        \"std\": 3116.7945263622864,\n        \"min\": 0.0,\n        \"max\": 8819.0,\n        \"num_unique_values\": 8,\n        \"samples\": [\n          3.2875609479532826,\n          3.0,\n          8819.0\n        ],\n        \"semantic_type\": \"\",\n        \"description\": \"\"\n      }\n    },\n    {\n      \"column\": \"Work_Experience\",\n      \"properties\": {\n        \"dtype\": \"number\",\n        \"std\": 3116.727873507666,\n        \"min\": 0.0,\n        \"max\": 8819.0,\n        \"num_unique_values\": 7,\n        \"samples\": [\n          8819.0,\n          2.6101598820727974,\n          4.0\n        ],\n        \"semantic_type\": \"\",\n        \"description\": \"\"\n      }\n    },\n    {\n      \"column\": \"Spending_Score\",\n      \"properties\": {\n        \"dtype\": \"number\",\n        \"std\": 3117.771084429154,\n        \"min\": 0.0,\n        \"max\": 8819.0,\n        \"num_unique_values\": 6,\n        \"samples\": [\n          8819.0,\n          0.5448463544619572,\n          2.0\n        ],\n        \"semantic_type\": \"\",\n        \"description\": \"\"\n      }\n    },\n    {\n      \"column\": \"Family_Size\",\n      \"properties\": {\n        \"dtype\": \"number\",\n        \"std\": 3116.8582639634405,\n        \"min\": 1.0,\n        \"max\": 8819.0,\n        \"num_unique_values\": 7,\n        \"samples\": [\n          8819.0,\n          2.840117927202631,\n          4.0\n        ],\n        \"semantic_type\": \"\",\n        \"description\": \"\"\n      }\n    },\n    {\n      \"column\": \"Segmentation\",\n      \"properties\": {\n        \"dtype\": \"number\",\n        \"std\": 3117.448916094136,\n        \"min\": 0.0,\n        \"max\": 8819.0,\n        \"num_unique_values\": 6,\n        \"samples\": [\n          8819.0,\n          1.5180859507880713,\n          3.0\n        ],\n        \"semantic_type\": \"\",\n        \"description\": \"\"\n      }\n    }\n  ]\n}"
            }
          },
          "metadata": {},
          "execution_count": 31
        }
      ],
      "source": [
        "customers_1.describe()"
      ]
    },
    {
      "cell_type": "code",
      "execution_count": 32,
      "metadata": {
        "colab": {
          "base_uri": "https://localhost:8080/"
        },
        "id": "bd5tbvKF3YzZ",
        "outputId": "b44ec4d6-b152-4602-b75f-70d66c1b9eeb"
      },
      "outputs": [
        {
          "output_type": "execute_result",
          "data": {
            "text/plain": [
              "array([3, 1, 2, 0])"
            ]
          },
          "metadata": {},
          "execution_count": 32
        }
      ],
      "source": [
        "customers_1['Segmentation'].unique()"
      ]
    },
    {
      "cell_type": "code",
      "execution_count": 33,
      "metadata": {
        "id": "EnXJqA4Z3fdd"
      },
      "outputs": [],
      "source": [
        "X=customers_1[['Gender','Ever_Married','Age','Graduated','Profession','Work_Experience','Spending_Score','Family_Size']].values\n"
      ]
    },
    {
      "cell_type": "code",
      "execution_count": 34,
      "metadata": {
        "id": "AabsIJTE3fwT"
      },
      "outputs": [],
      "source": [
        "y1 = customers_1[['Segmentation']].values"
      ]
    },
    {
      "cell_type": "code",
      "execution_count": 35,
      "metadata": {
        "id": "TI1AFsHP3fzx"
      },
      "outputs": [],
      "source": [
        "one_hot_enc = OneHotEncoder()"
      ]
    },
    {
      "cell_type": "code",
      "execution_count": 36,
      "metadata": {
        "colab": {
          "base_uri": "https://localhost:8080/",
          "height": 74
        },
        "id": "rcPDPENa3qcK",
        "outputId": "329d98b6-e824-44b6-f300-5a58595e201c"
      },
      "outputs": [
        {
          "output_type": "execute_result",
          "data": {
            "text/plain": [
              "OneHotEncoder()"
            ],
            "text/html": [
              "<style>#sk-container-id-1 {color: black;background-color: white;}#sk-container-id-1 pre{padding: 0;}#sk-container-id-1 div.sk-toggleable {background-color: white;}#sk-container-id-1 label.sk-toggleable__label {cursor: pointer;display: block;width: 100%;margin-bottom: 0;padding: 0.3em;box-sizing: border-box;text-align: center;}#sk-container-id-1 label.sk-toggleable__label-arrow:before {content: \"▸\";float: left;margin-right: 0.25em;color: #696969;}#sk-container-id-1 label.sk-toggleable__label-arrow:hover:before {color: black;}#sk-container-id-1 div.sk-estimator:hover label.sk-toggleable__label-arrow:before {color: black;}#sk-container-id-1 div.sk-toggleable__content {max-height: 0;max-width: 0;overflow: hidden;text-align: left;background-color: #f0f8ff;}#sk-container-id-1 div.sk-toggleable__content pre {margin: 0.2em;color: black;border-radius: 0.25em;background-color: #f0f8ff;}#sk-container-id-1 input.sk-toggleable__control:checked~div.sk-toggleable__content {max-height: 200px;max-width: 100%;overflow: auto;}#sk-container-id-1 input.sk-toggleable__control:checked~label.sk-toggleable__label-arrow:before {content: \"▾\";}#sk-container-id-1 div.sk-estimator input.sk-toggleable__control:checked~label.sk-toggleable__label {background-color: #d4ebff;}#sk-container-id-1 div.sk-label input.sk-toggleable__control:checked~label.sk-toggleable__label {background-color: #d4ebff;}#sk-container-id-1 input.sk-hidden--visually {border: 0;clip: rect(1px 1px 1px 1px);clip: rect(1px, 1px, 1px, 1px);height: 1px;margin: -1px;overflow: hidden;padding: 0;position: absolute;width: 1px;}#sk-container-id-1 div.sk-estimator {font-family: monospace;background-color: #f0f8ff;border: 1px dotted black;border-radius: 0.25em;box-sizing: border-box;margin-bottom: 0.5em;}#sk-container-id-1 div.sk-estimator:hover {background-color: #d4ebff;}#sk-container-id-1 div.sk-parallel-item::after {content: \"\";width: 100%;border-bottom: 1px solid gray;flex-grow: 1;}#sk-container-id-1 div.sk-label:hover label.sk-toggleable__label {background-color: #d4ebff;}#sk-container-id-1 div.sk-serial::before {content: \"\";position: absolute;border-left: 1px solid gray;box-sizing: border-box;top: 0;bottom: 0;left: 50%;z-index: 0;}#sk-container-id-1 div.sk-serial {display: flex;flex-direction: column;align-items: center;background-color: white;padding-right: 0.2em;padding-left: 0.2em;position: relative;}#sk-container-id-1 div.sk-item {position: relative;z-index: 1;}#sk-container-id-1 div.sk-parallel {display: flex;align-items: stretch;justify-content: center;background-color: white;position: relative;}#sk-container-id-1 div.sk-item::before, #sk-container-id-1 div.sk-parallel-item::before {content: \"\";position: absolute;border-left: 1px solid gray;box-sizing: border-box;top: 0;bottom: 0;left: 50%;z-index: -1;}#sk-container-id-1 div.sk-parallel-item {display: flex;flex-direction: column;z-index: 1;position: relative;background-color: white;}#sk-container-id-1 div.sk-parallel-item:first-child::after {align-self: flex-end;width: 50%;}#sk-container-id-1 div.sk-parallel-item:last-child::after {align-self: flex-start;width: 50%;}#sk-container-id-1 div.sk-parallel-item:only-child::after {width: 0;}#sk-container-id-1 div.sk-dashed-wrapped {border: 1px dashed gray;margin: 0 0.4em 0.5em 0.4em;box-sizing: border-box;padding-bottom: 0.4em;background-color: white;}#sk-container-id-1 div.sk-label label {font-family: monospace;font-weight: bold;display: inline-block;line-height: 1.2em;}#sk-container-id-1 div.sk-label-container {text-align: center;}#sk-container-id-1 div.sk-container {/* jupyter's `normalize.less` sets `[hidden] { display: none; }` but bootstrap.min.css set `[hidden] { display: none !important; }` so we also need the `!important` here to be able to override the default hidden behavior on the sphinx rendered scikit-learn.org. See: https://github.com/scikit-learn/scikit-learn/issues/21755 */display: inline-block !important;position: relative;}#sk-container-id-1 div.sk-text-repr-fallback {display: none;}</style><div id=\"sk-container-id-1\" class=\"sk-top-container\"><div class=\"sk-text-repr-fallback\"><pre>OneHotEncoder()</pre><b>In a Jupyter environment, please rerun this cell to show the HTML representation or trust the notebook. <br />On GitHub, the HTML representation is unable to render, please try loading this page with nbviewer.org.</b></div><div class=\"sk-container\" hidden><div class=\"sk-item\"><div class=\"sk-estimator sk-toggleable\"><input class=\"sk-toggleable__control sk-hidden--visually\" id=\"sk-estimator-id-1\" type=\"checkbox\" checked><label for=\"sk-estimator-id-1\" class=\"sk-toggleable__label sk-toggleable__label-arrow\">OneHotEncoder</label><div class=\"sk-toggleable__content\"><pre>OneHotEncoder()</pre></div></div></div></div></div>"
            ]
          },
          "metadata": {},
          "execution_count": 36
        }
      ],
      "source": [
        "one_hot_enc.fit(y1)"
      ]
    },
    {
      "cell_type": "code",
      "execution_count": 37,
      "metadata": {
        "colab": {
          "base_uri": "https://localhost:8080/"
        },
        "id": "zgb8Wf1m3qfs",
        "outputId": "1985c09a-011c-4606-9389-7185c14b6455"
      },
      "outputs": [
        {
          "output_type": "execute_result",
          "data": {
            "text/plain": [
              "(8819, 1)"
            ]
          },
          "metadata": {},
          "execution_count": 37
        }
      ],
      "source": [
        "y1.shape"
      ]
    },
    {
      "cell_type": "code",
      "execution_count": 38,
      "metadata": {
        "id": "mFRvahM832R4"
      },
      "outputs": [],
      "source": [
        "y = one_hot_enc.transform(y1).toarray()"
      ]
    },
    {
      "cell_type": "code",
      "execution_count": 39,
      "metadata": {
        "colab": {
          "base_uri": "https://localhost:8080/"
        },
        "id": "rgcnwAZG32Xn",
        "outputId": "89ae0ad0-4f82-45dd-f5ad-fda1ace94bbf"
      },
      "outputs": [
        {
          "output_type": "execute_result",
          "data": {
            "text/plain": [
              "(8819, 4)"
            ]
          },
          "metadata": {},
          "execution_count": 39
        }
      ],
      "source": [
        "y.shape"
      ]
    },
    {
      "cell_type": "code",
      "execution_count": 40,
      "metadata": {
        "colab": {
          "base_uri": "https://localhost:8080/"
        },
        "id": "e2FAo6er3_0f",
        "outputId": "0bcb1b04-d13f-435e-8f49-013526585619"
      },
      "outputs": [
        {
          "output_type": "execute_result",
          "data": {
            "text/plain": [
              "array([3])"
            ]
          },
          "metadata": {},
          "execution_count": 40
        }
      ],
      "source": [
        "y1[0]"
      ]
    },
    {
      "cell_type": "code",
      "execution_count": 41,
      "metadata": {
        "colab": {
          "base_uri": "https://localhost:8080/"
        },
        "id": "RYhmTiHr3_3x",
        "outputId": "4949254c-e174-4826-f618-fe9c12a5f2cc"
      },
      "outputs": [
        {
          "output_type": "execute_result",
          "data": {
            "text/plain": [
              "array([0., 0., 0., 1.])"
            ]
          },
          "metadata": {},
          "execution_count": 41
        }
      ],
      "source": [
        "y[0]"
      ]
    },
    {
      "cell_type": "code",
      "execution_count": 42,
      "metadata": {
        "colab": {
          "base_uri": "https://localhost:8080/"
        },
        "id": "B5ldWDqi4FZz",
        "outputId": "9d0a01ee-d73a-4b47-9fc3-5b0f5f64f566"
      },
      "outputs": [
        {
          "output_type": "execute_result",
          "data": {
            "text/plain": [
              "(8819, 8)"
            ]
          },
          "metadata": {},
          "execution_count": 42
        }
      ],
      "source": [
        "X.shape"
      ]
    },
    {
      "cell_type": "code",
      "execution_count": 43,
      "metadata": {
        "id": "J4d6_oQh4Fdi"
      },
      "outputs": [],
      "source": [
        "X_train,X_test,y_train,y_test=train_test_split(X,y,test_size=0.33,random_state=50)"
      ]
    },
    {
      "cell_type": "code",
      "execution_count": 44,
      "metadata": {
        "colab": {
          "base_uri": "https://localhost:8080/"
        },
        "id": "_4IzfKoR4o8Y",
        "outputId": "303b815b-78c1-4ad4-d80a-215c1bdd2f17"
      },
      "outputs": [
        {
          "output_type": "execute_result",
          "data": {
            "text/plain": [
              "array([ 1.,  1., 85.,  0.,  2.,  0.,  0.,  1.])"
            ]
          },
          "metadata": {},
          "execution_count": 44
        }
      ],
      "source": [
        "X_train[0]"
      ]
    },
    {
      "cell_type": "code",
      "execution_count": 45,
      "metadata": {
        "colab": {
          "base_uri": "https://localhost:8080/"
        },
        "id": "eJk8kZHD4o_9",
        "outputId": "f5d28b3d-d4ec-4294-f076-cd4d991c6f21"
      },
      "outputs": [
        {
          "output_type": "execute_result",
          "data": {
            "text/plain": [
              "(5908, 8)"
            ]
          },
          "metadata": {},
          "execution_count": 45
        }
      ],
      "source": [
        "X_train.shape"
      ]
    },
    {
      "cell_type": "code",
      "execution_count": 46,
      "metadata": {
        "id": "JOW_AA2H4wLd"
      },
      "outputs": [],
      "source": [
        "scaler_age = MinMaxScaler()"
      ]
    },
    {
      "cell_type": "code",
      "execution_count": 47,
      "metadata": {
        "colab": {
          "base_uri": "https://localhost:8080/",
          "height": 74
        },
        "id": "ATD5-I1S4wO8",
        "outputId": "ad01ed72-4af0-4d7d-855c-42940a2b3367"
      },
      "outputs": [
        {
          "output_type": "execute_result",
          "data": {
            "text/plain": [
              "MinMaxScaler()"
            ],
            "text/html": [
              "<style>#sk-container-id-2 {color: black;background-color: white;}#sk-container-id-2 pre{padding: 0;}#sk-container-id-2 div.sk-toggleable {background-color: white;}#sk-container-id-2 label.sk-toggleable__label {cursor: pointer;display: block;width: 100%;margin-bottom: 0;padding: 0.3em;box-sizing: border-box;text-align: center;}#sk-container-id-2 label.sk-toggleable__label-arrow:before {content: \"▸\";float: left;margin-right: 0.25em;color: #696969;}#sk-container-id-2 label.sk-toggleable__label-arrow:hover:before {color: black;}#sk-container-id-2 div.sk-estimator:hover label.sk-toggleable__label-arrow:before {color: black;}#sk-container-id-2 div.sk-toggleable__content {max-height: 0;max-width: 0;overflow: hidden;text-align: left;background-color: #f0f8ff;}#sk-container-id-2 div.sk-toggleable__content pre {margin: 0.2em;color: black;border-radius: 0.25em;background-color: #f0f8ff;}#sk-container-id-2 input.sk-toggleable__control:checked~div.sk-toggleable__content {max-height: 200px;max-width: 100%;overflow: auto;}#sk-container-id-2 input.sk-toggleable__control:checked~label.sk-toggleable__label-arrow:before {content: \"▾\";}#sk-container-id-2 div.sk-estimator input.sk-toggleable__control:checked~label.sk-toggleable__label {background-color: #d4ebff;}#sk-container-id-2 div.sk-label input.sk-toggleable__control:checked~label.sk-toggleable__label {background-color: #d4ebff;}#sk-container-id-2 input.sk-hidden--visually {border: 0;clip: rect(1px 1px 1px 1px);clip: rect(1px, 1px, 1px, 1px);height: 1px;margin: -1px;overflow: hidden;padding: 0;position: absolute;width: 1px;}#sk-container-id-2 div.sk-estimator {font-family: monospace;background-color: #f0f8ff;border: 1px dotted black;border-radius: 0.25em;box-sizing: border-box;margin-bottom: 0.5em;}#sk-container-id-2 div.sk-estimator:hover {background-color: #d4ebff;}#sk-container-id-2 div.sk-parallel-item::after {content: \"\";width: 100%;border-bottom: 1px solid gray;flex-grow: 1;}#sk-container-id-2 div.sk-label:hover label.sk-toggleable__label {background-color: #d4ebff;}#sk-container-id-2 div.sk-serial::before {content: \"\";position: absolute;border-left: 1px solid gray;box-sizing: border-box;top: 0;bottom: 0;left: 50%;z-index: 0;}#sk-container-id-2 div.sk-serial {display: flex;flex-direction: column;align-items: center;background-color: white;padding-right: 0.2em;padding-left: 0.2em;position: relative;}#sk-container-id-2 div.sk-item {position: relative;z-index: 1;}#sk-container-id-2 div.sk-parallel {display: flex;align-items: stretch;justify-content: center;background-color: white;position: relative;}#sk-container-id-2 div.sk-item::before, #sk-container-id-2 div.sk-parallel-item::before {content: \"\";position: absolute;border-left: 1px solid gray;box-sizing: border-box;top: 0;bottom: 0;left: 50%;z-index: -1;}#sk-container-id-2 div.sk-parallel-item {display: flex;flex-direction: column;z-index: 1;position: relative;background-color: white;}#sk-container-id-2 div.sk-parallel-item:first-child::after {align-self: flex-end;width: 50%;}#sk-container-id-2 div.sk-parallel-item:last-child::after {align-self: flex-start;width: 50%;}#sk-container-id-2 div.sk-parallel-item:only-child::after {width: 0;}#sk-container-id-2 div.sk-dashed-wrapped {border: 1px dashed gray;margin: 0 0.4em 0.5em 0.4em;box-sizing: border-box;padding-bottom: 0.4em;background-color: white;}#sk-container-id-2 div.sk-label label {font-family: monospace;font-weight: bold;display: inline-block;line-height: 1.2em;}#sk-container-id-2 div.sk-label-container {text-align: center;}#sk-container-id-2 div.sk-container {/* jupyter's `normalize.less` sets `[hidden] { display: none; }` but bootstrap.min.css set `[hidden] { display: none !important; }` so we also need the `!important` here to be able to override the default hidden behavior on the sphinx rendered scikit-learn.org. See: https://github.com/scikit-learn/scikit-learn/issues/21755 */display: inline-block !important;position: relative;}#sk-container-id-2 div.sk-text-repr-fallback {display: none;}</style><div id=\"sk-container-id-2\" class=\"sk-top-container\"><div class=\"sk-text-repr-fallback\"><pre>MinMaxScaler()</pre><b>In a Jupyter environment, please rerun this cell to show the HTML representation or trust the notebook. <br />On GitHub, the HTML representation is unable to render, please try loading this page with nbviewer.org.</b></div><div class=\"sk-container\" hidden><div class=\"sk-item\"><div class=\"sk-estimator sk-toggleable\"><input class=\"sk-toggleable__control sk-hidden--visually\" id=\"sk-estimator-id-2\" type=\"checkbox\" checked><label for=\"sk-estimator-id-2\" class=\"sk-toggleable__label sk-toggleable__label-arrow\">MinMaxScaler</label><div class=\"sk-toggleable__content\"><pre>MinMaxScaler()</pre></div></div></div></div></div>"
            ]
          },
          "metadata": {},
          "execution_count": 47
        }
      ],
      "source": [
        "scaler_age.fit(X_train[:,2].reshape(-1,1))"
      ]
    },
    {
      "cell_type": "code",
      "execution_count": 48,
      "metadata": {
        "id": "OSxu6Ef841-C"
      },
      "outputs": [],
      "source": [
        "X_train_scaled = np.copy(X_train)\n",
        "X_test_scaled = np.copy(X_test)"
      ]
    },
    {
      "cell_type": "code",
      "execution_count": 49,
      "metadata": {
        "id": "oMnGcEVG45yu"
      },
      "outputs": [],
      "source": [
        "X_train_scaled[:,2] = scaler_age.transform(X_train[:,2].reshape(-1,1)).reshape(-1)\n",
        "X_test_scaled[:,2] = scaler_age.transform(X_test[:,2].reshape(-1,1)).reshape(-1)"
      ]
    },
    {
      "cell_type": "code",
      "execution_count": 50,
      "metadata": {
        "id": "RToQg63t452P"
      },
      "outputs": [],
      "source": [
        "ai_brain = Sequential([\n",
        "    Dense(units=7,activation='relu',input_shape=[8]),\n",
        "    Dense(units=5,activation='relu'),\n",
        "    Dense(units=3,activation='relu'),\n",
        "    Dense(units=4,activation='softmax')\n",
        "])\n"
      ]
    },
    {
      "cell_type": "code",
      "execution_count": 51,
      "metadata": {
        "id": "4DnOJV6P5lQG"
      },
      "outputs": [],
      "source": [
        "ai_brain.compile(optimizer='adam',\n",
        "                 loss= 'categorical_crossentropy',\n",
        "                 metrics=['accuracy'])\n"
      ]
    },
    {
      "cell_type": "code",
      "execution_count": 52,
      "metadata": {
        "colab": {
          "base_uri": "https://localhost:8080/"
        },
        "id": "pUmHaUud5ptU",
        "outputId": "00fd2e56-52c5-4092-9c9b-01afea69fbf3"
      },
      "outputs": [
        {
          "output_type": "stream",
          "name": "stdout",
          "text": [
            "Epoch 1/200\n",
            "24/24 [==============================] - 2s 24ms/step - loss: 2.3666 - accuracy: 0.2260 - val_loss: 2.0465 - val_accuracy: 0.2357\n",
            "Epoch 2/200\n",
            "24/24 [==============================] - 0s 9ms/step - loss: 1.8934 - accuracy: 0.2268 - val_loss: 1.7050 - val_accuracy: 0.2398\n",
            "Epoch 3/200\n",
            "24/24 [==============================] - 0s 7ms/step - loss: 1.6265 - accuracy: 0.2282 - val_loss: 1.5286 - val_accuracy: 0.2422\n",
            "Epoch 4/200\n",
            "24/24 [==============================] - 0s 7ms/step - loss: 1.4972 - accuracy: 0.2270 - val_loss: 1.4505 - val_accuracy: 0.2353\n",
            "Epoch 5/200\n",
            "24/24 [==============================] - 0s 9ms/step - loss: 1.4394 - accuracy: 0.2238 - val_loss: 1.4164 - val_accuracy: 0.2360\n",
            "Epoch 6/200\n",
            "24/24 [==============================] - 0s 9ms/step - loss: 1.4118 - accuracy: 0.2331 - val_loss: 1.3992 - val_accuracy: 0.2429\n",
            "Epoch 7/200\n",
            "24/24 [==============================] - 0s 6ms/step - loss: 1.3965 - accuracy: 0.2549 - val_loss: 1.3895 - val_accuracy: 0.2652\n",
            "Epoch 8/200\n",
            "24/24 [==============================] - 0s 7ms/step - loss: 1.3868 - accuracy: 0.2773 - val_loss: 1.3828 - val_accuracy: 0.2862\n",
            "Epoch 9/200\n",
            "24/24 [==============================] - 0s 7ms/step - loss: 1.3804 - accuracy: 0.2947 - val_loss: 1.3773 - val_accuracy: 0.2958\n",
            "Epoch 10/200\n",
            "24/24 [==============================] - 0s 8ms/step - loss: 1.3755 - accuracy: 0.3033 - val_loss: 1.3738 - val_accuracy: 0.2982\n",
            "Epoch 11/200\n",
            "24/24 [==============================] - 0s 7ms/step - loss: 1.3722 - accuracy: 0.3064 - val_loss: 1.3697 - val_accuracy: 0.3123\n",
            "Epoch 12/200\n",
            "24/24 [==============================] - 0s 4ms/step - loss: 1.3695 - accuracy: 0.3079 - val_loss: 1.3668 - val_accuracy: 0.3119\n",
            "Epoch 13/200\n",
            "24/24 [==============================] - 0s 4ms/step - loss: 1.3666 - accuracy: 0.3097 - val_loss: 1.3636 - val_accuracy: 0.3154\n",
            "Epoch 14/200\n",
            "24/24 [==============================] - 0s 4ms/step - loss: 1.3635 - accuracy: 0.3202 - val_loss: 1.3604 - val_accuracy: 0.3191\n",
            "Epoch 15/200\n",
            "24/24 [==============================] - 0s 6ms/step - loss: 1.3604 - accuracy: 0.3211 - val_loss: 1.3577 - val_accuracy: 0.3219\n",
            "Epoch 16/200\n",
            "24/24 [==============================] - 0s 4ms/step - loss: 1.3578 - accuracy: 0.3240 - val_loss: 1.3553 - val_accuracy: 0.3171\n",
            "Epoch 17/200\n",
            "24/24 [==============================] - 0s 4ms/step - loss: 1.3556 - accuracy: 0.3202 - val_loss: 1.3530 - val_accuracy: 0.3212\n",
            "Epoch 18/200\n",
            "24/24 [==============================] - 0s 4ms/step - loss: 1.3530 - accuracy: 0.3279 - val_loss: 1.3510 - val_accuracy: 0.3236\n",
            "Epoch 19/200\n",
            "24/24 [==============================] - 0s 4ms/step - loss: 1.3505 - accuracy: 0.3284 - val_loss: 1.3498 - val_accuracy: 0.3236\n",
            "Epoch 20/200\n",
            "24/24 [==============================] - 0s 4ms/step - loss: 1.3479 - accuracy: 0.3267 - val_loss: 1.3474 - val_accuracy: 0.3233\n",
            "Epoch 21/200\n",
            "24/24 [==============================] - 0s 4ms/step - loss: 1.3454 - accuracy: 0.3279 - val_loss: 1.3450 - val_accuracy: 0.3236\n",
            "Epoch 22/200\n",
            "24/24 [==============================] - 0s 4ms/step - loss: 1.3431 - accuracy: 0.3294 - val_loss: 1.3431 - val_accuracy: 0.3222\n",
            "Epoch 23/200\n",
            "24/24 [==============================] - 0s 5ms/step - loss: 1.3409 - accuracy: 0.3307 - val_loss: 1.3407 - val_accuracy: 0.3260\n",
            "Epoch 24/200\n",
            "24/24 [==============================] - 0s 7ms/step - loss: 1.3386 - accuracy: 0.3302 - val_loss: 1.3386 - val_accuracy: 0.3274\n",
            "Epoch 25/200\n",
            "24/24 [==============================] - 0s 5ms/step - loss: 1.3362 - accuracy: 0.3312 - val_loss: 1.3361 - val_accuracy: 0.3267\n",
            "Epoch 26/200\n",
            "24/24 [==============================] - 0s 6ms/step - loss: 1.3338 - accuracy: 0.3319 - val_loss: 1.3340 - val_accuracy: 0.3281\n",
            "Epoch 27/200\n",
            "24/24 [==============================] - 0s 5ms/step - loss: 1.3317 - accuracy: 0.3309 - val_loss: 1.3324 - val_accuracy: 0.3274\n",
            "Epoch 28/200\n",
            "24/24 [==============================] - 0s 5ms/step - loss: 1.3293 - accuracy: 0.3483 - val_loss: 1.3297 - val_accuracy: 0.3576\n",
            "Epoch 29/200\n",
            "24/24 [==============================] - 0s 5ms/step - loss: 1.3267 - accuracy: 0.3592 - val_loss: 1.3273 - val_accuracy: 0.3583\n",
            "Epoch 30/200\n",
            "24/24 [==============================] - 0s 5ms/step - loss: 1.3242 - accuracy: 0.3612 - val_loss: 1.3250 - val_accuracy: 0.3614\n",
            "Epoch 31/200\n",
            "24/24 [==============================] - 0s 5ms/step - loss: 1.3221 - accuracy: 0.3727 - val_loss: 1.3229 - val_accuracy: 0.3738\n",
            "Epoch 32/200\n",
            "24/24 [==============================] - 0s 6ms/step - loss: 1.3192 - accuracy: 0.3766 - val_loss: 1.3205 - val_accuracy: 0.3748\n",
            "Epoch 33/200\n",
            "24/24 [==============================] - 0s 5ms/step - loss: 1.3167 - accuracy: 0.3798 - val_loss: 1.3178 - val_accuracy: 0.3772\n",
            "Epoch 34/200\n",
            "24/24 [==============================] - 0s 5ms/step - loss: 1.3138 - accuracy: 0.3844 - val_loss: 1.3155 - val_accuracy: 0.3872\n",
            "Epoch 35/200\n",
            "24/24 [==============================] - 0s 7ms/step - loss: 1.3111 - accuracy: 0.3908 - val_loss: 1.3130 - val_accuracy: 0.3954\n",
            "Epoch 36/200\n",
            "24/24 [==============================] - 0s 5ms/step - loss: 1.3084 - accuracy: 0.3978 - val_loss: 1.3106 - val_accuracy: 0.3954\n",
            "Epoch 37/200\n",
            "24/24 [==============================] - 0s 5ms/step - loss: 1.3055 - accuracy: 0.4066 - val_loss: 1.3085 - val_accuracy: 0.3971\n",
            "Epoch 38/200\n",
            "24/24 [==============================] - 0s 5ms/step - loss: 1.3031 - accuracy: 0.4113 - val_loss: 1.3061 - val_accuracy: 0.3964\n",
            "Epoch 39/200\n",
            "24/24 [==============================] - 0s 4ms/step - loss: 1.3007 - accuracy: 0.4162 - val_loss: 1.3041 - val_accuracy: 0.4043\n",
            "Epoch 40/200\n",
            "24/24 [==============================] - 0s 5ms/step - loss: 1.2984 - accuracy: 0.4198 - val_loss: 1.3022 - val_accuracy: 0.4078\n",
            "Epoch 41/200\n",
            "24/24 [==============================] - 0s 4ms/step - loss: 1.2966 - accuracy: 0.4199 - val_loss: 1.3003 - val_accuracy: 0.4074\n",
            "Epoch 42/200\n",
            "24/24 [==============================] - 0s 4ms/step - loss: 1.2941 - accuracy: 0.4220 - val_loss: 1.2981 - val_accuracy: 0.4102\n",
            "Epoch 43/200\n",
            "24/24 [==============================] - 0s 4ms/step - loss: 1.2921 - accuracy: 0.4225 - val_loss: 1.2969 - val_accuracy: 0.4115\n",
            "Epoch 44/200\n",
            "24/24 [==============================] - 0s 4ms/step - loss: 1.2900 - accuracy: 0.4282 - val_loss: 1.2947 - val_accuracy: 0.4098\n",
            "Epoch 45/200\n",
            "24/24 [==============================] - 0s 4ms/step - loss: 1.2878 - accuracy: 0.4282 - val_loss: 1.2927 - val_accuracy: 0.4133\n",
            "Epoch 46/200\n",
            "24/24 [==============================] - 0s 4ms/step - loss: 1.2860 - accuracy: 0.4252 - val_loss: 1.2913 - val_accuracy: 0.4098\n",
            "Epoch 47/200\n",
            "24/24 [==============================] - 0s 4ms/step - loss: 1.2839 - accuracy: 0.4274 - val_loss: 1.2895 - val_accuracy: 0.4143\n",
            "Epoch 48/200\n",
            "24/24 [==============================] - 0s 4ms/step - loss: 1.2821 - accuracy: 0.4294 - val_loss: 1.2878 - val_accuracy: 0.4109\n",
            "Epoch 49/200\n",
            "24/24 [==============================] - 0s 4ms/step - loss: 1.2808 - accuracy: 0.4250 - val_loss: 1.2866 - val_accuracy: 0.4122\n",
            "Epoch 50/200\n",
            "24/24 [==============================] - 0s 4ms/step - loss: 1.2798 - accuracy: 0.4260 - val_loss: 1.2857 - val_accuracy: 0.4136\n",
            "Epoch 51/200\n",
            "24/24 [==============================] - 0s 4ms/step - loss: 1.2772 - accuracy: 0.4284 - val_loss: 1.2834 - val_accuracy: 0.4119\n",
            "Epoch 52/200\n",
            "24/24 [==============================] - 0s 4ms/step - loss: 1.2755 - accuracy: 0.4298 - val_loss: 1.2825 - val_accuracy: 0.4122\n",
            "Epoch 53/200\n",
            "24/24 [==============================] - 0s 4ms/step - loss: 1.2744 - accuracy: 0.4262 - val_loss: 1.2810 - val_accuracy: 0.4157\n",
            "Epoch 54/200\n",
            "24/24 [==============================] - 0s 4ms/step - loss: 1.2728 - accuracy: 0.4296 - val_loss: 1.2800 - val_accuracy: 0.4146\n",
            "Epoch 55/200\n",
            "24/24 [==============================] - 0s 4ms/step - loss: 1.2716 - accuracy: 0.4287 - val_loss: 1.2790 - val_accuracy: 0.4150\n",
            "Epoch 56/200\n",
            "24/24 [==============================] - 0s 4ms/step - loss: 1.2699 - accuracy: 0.4301 - val_loss: 1.2774 - val_accuracy: 0.4177\n",
            "Epoch 57/200\n",
            "24/24 [==============================] - 0s 4ms/step - loss: 1.2683 - accuracy: 0.4321 - val_loss: 1.2763 - val_accuracy: 0.4150\n",
            "Epoch 58/200\n",
            "24/24 [==============================] - 0s 4ms/step - loss: 1.2673 - accuracy: 0.4309 - val_loss: 1.2751 - val_accuracy: 0.4153\n",
            "Epoch 59/200\n",
            "24/24 [==============================] - 0s 4ms/step - loss: 1.2662 - accuracy: 0.4308 - val_loss: 1.2740 - val_accuracy: 0.4167\n",
            "Epoch 60/200\n",
            "24/24 [==============================] - 0s 4ms/step - loss: 1.2652 - accuracy: 0.4282 - val_loss: 1.2731 - val_accuracy: 0.4146\n",
            "Epoch 61/200\n",
            "24/24 [==============================] - 0s 4ms/step - loss: 1.2636 - accuracy: 0.4299 - val_loss: 1.2720 - val_accuracy: 0.4129\n",
            "Epoch 62/200\n",
            "24/24 [==============================] - 0s 4ms/step - loss: 1.2626 - accuracy: 0.4298 - val_loss: 1.2708 - val_accuracy: 0.4136\n",
            "Epoch 63/200\n",
            "24/24 [==============================] - 0s 4ms/step - loss: 1.2610 - accuracy: 0.4277 - val_loss: 1.2699 - val_accuracy: 0.4133\n",
            "Epoch 64/200\n",
            "24/24 [==============================] - 0s 4ms/step - loss: 1.2606 - accuracy: 0.4277 - val_loss: 1.2690 - val_accuracy: 0.4136\n",
            "Epoch 65/200\n",
            "24/24 [==============================] - 0s 4ms/step - loss: 1.2593 - accuracy: 0.4296 - val_loss: 1.2684 - val_accuracy: 0.4170\n",
            "Epoch 66/200\n",
            "24/24 [==============================] - 0s 4ms/step - loss: 1.2582 - accuracy: 0.4276 - val_loss: 1.2673 - val_accuracy: 0.4208\n",
            "Epoch 67/200\n",
            "24/24 [==============================] - 0s 4ms/step - loss: 1.2573 - accuracy: 0.4269 - val_loss: 1.2662 - val_accuracy: 0.4191\n",
            "Epoch 68/200\n",
            "24/24 [==============================] - 0s 4ms/step - loss: 1.2562 - accuracy: 0.4286 - val_loss: 1.2650 - val_accuracy: 0.4205\n",
            "Epoch 69/200\n",
            "24/24 [==============================] - 0s 4ms/step - loss: 1.2549 - accuracy: 0.4320 - val_loss: 1.2647 - val_accuracy: 0.4188\n",
            "Epoch 70/200\n",
            "24/24 [==============================] - 0s 4ms/step - loss: 1.2546 - accuracy: 0.4286 - val_loss: 1.2634 - val_accuracy: 0.4201\n",
            "Epoch 71/200\n",
            "24/24 [==============================] - 0s 4ms/step - loss: 1.2539 - accuracy: 0.4306 - val_loss: 1.2628 - val_accuracy: 0.4232\n",
            "Epoch 72/200\n",
            "24/24 [==============================] - 0s 4ms/step - loss: 1.2533 - accuracy: 0.4277 - val_loss: 1.2625 - val_accuracy: 0.4229\n",
            "Epoch 73/200\n",
            "24/24 [==============================] - 0s 4ms/step - loss: 1.2527 - accuracy: 0.4323 - val_loss: 1.2612 - val_accuracy: 0.4249\n",
            "Epoch 74/200\n",
            "24/24 [==============================] - 0s 4ms/step - loss: 1.2509 - accuracy: 0.4304 - val_loss: 1.2606 - val_accuracy: 0.4284\n",
            "Epoch 75/200\n",
            "24/24 [==============================] - 0s 4ms/step - loss: 1.2496 - accuracy: 0.4348 - val_loss: 1.2598 - val_accuracy: 0.4270\n",
            "Epoch 76/200\n",
            "24/24 [==============================] - 0s 4ms/step - loss: 1.2492 - accuracy: 0.4350 - val_loss: 1.2597 - val_accuracy: 0.4287\n",
            "Epoch 77/200\n",
            "24/24 [==============================] - 0s 4ms/step - loss: 1.2483 - accuracy: 0.4342 - val_loss: 1.2586 - val_accuracy: 0.4277\n",
            "Epoch 78/200\n",
            "24/24 [==============================] - 0s 4ms/step - loss: 1.2474 - accuracy: 0.4321 - val_loss: 1.2587 - val_accuracy: 0.4229\n",
            "Epoch 79/200\n",
            "24/24 [==============================] - 0s 4ms/step - loss: 1.2468 - accuracy: 0.4318 - val_loss: 1.2575 - val_accuracy: 0.4277\n",
            "Epoch 80/200\n",
            "24/24 [==============================] - 0s 5ms/step - loss: 1.2460 - accuracy: 0.4331 - val_loss: 1.2571 - val_accuracy: 0.4287\n",
            "Epoch 81/200\n",
            "24/24 [==============================] - 0s 5ms/step - loss: 1.2455 - accuracy: 0.4331 - val_loss: 1.2567 - val_accuracy: 0.4243\n",
            "Epoch 82/200\n",
            "24/24 [==============================] - 0s 5ms/step - loss: 1.2447 - accuracy: 0.4342 - val_loss: 1.2560 - val_accuracy: 0.4270\n",
            "Epoch 83/200\n",
            "24/24 [==============================] - 0s 5ms/step - loss: 1.2438 - accuracy: 0.4311 - val_loss: 1.2551 - val_accuracy: 0.4256\n",
            "Epoch 84/200\n",
            "24/24 [==============================] - 0s 4ms/step - loss: 1.2431 - accuracy: 0.4343 - val_loss: 1.2545 - val_accuracy: 0.4267\n",
            "Epoch 85/200\n",
            "24/24 [==============================] - 0s 7ms/step - loss: 1.2429 - accuracy: 0.4353 - val_loss: 1.2540 - val_accuracy: 0.4284\n",
            "Epoch 86/200\n",
            "24/24 [==============================] - 0s 7ms/step - loss: 1.2421 - accuracy: 0.4323 - val_loss: 1.2537 - val_accuracy: 0.4291\n",
            "Epoch 87/200\n",
            "24/24 [==============================] - 0s 5ms/step - loss: 1.2411 - accuracy: 0.4330 - val_loss: 1.2535 - val_accuracy: 0.4287\n",
            "Epoch 88/200\n",
            "24/24 [==============================] - 0s 8ms/step - loss: 1.2408 - accuracy: 0.4358 - val_loss: 1.2528 - val_accuracy: 0.4318\n",
            "Epoch 89/200\n",
            "24/24 [==============================] - 0s 7ms/step - loss: 1.2398 - accuracy: 0.4316 - val_loss: 1.2521 - val_accuracy: 0.4280\n",
            "Epoch 90/200\n",
            "24/24 [==============================] - 0s 5ms/step - loss: 1.2394 - accuracy: 0.4325 - val_loss: 1.2513 - val_accuracy: 0.4311\n",
            "Epoch 91/200\n",
            "24/24 [==============================] - 0s 7ms/step - loss: 1.2387 - accuracy: 0.4325 - val_loss: 1.2511 - val_accuracy: 0.4332\n",
            "Epoch 92/200\n",
            "24/24 [==============================] - 0s 5ms/step - loss: 1.2380 - accuracy: 0.4326 - val_loss: 1.2506 - val_accuracy: 0.4346\n",
            "Epoch 93/200\n",
            "24/24 [==============================] - 0s 4ms/step - loss: 1.2376 - accuracy: 0.4343 - val_loss: 1.2507 - val_accuracy: 0.4311\n",
            "Epoch 94/200\n",
            "24/24 [==============================] - 0s 4ms/step - loss: 1.2384 - accuracy: 0.4318 - val_loss: 1.2498 - val_accuracy: 0.4383\n",
            "Epoch 95/200\n",
            "24/24 [==============================] - 0s 5ms/step - loss: 1.2362 - accuracy: 0.4355 - val_loss: 1.2495 - val_accuracy: 0.4366\n",
            "Epoch 96/200\n",
            "24/24 [==============================] - 0s 4ms/step - loss: 1.2362 - accuracy: 0.4353 - val_loss: 1.2491 - val_accuracy: 0.4349\n",
            "Epoch 97/200\n",
            "24/24 [==============================] - 0s 4ms/step - loss: 1.2360 - accuracy: 0.4299 - val_loss: 1.2483 - val_accuracy: 0.4356\n",
            "Epoch 98/200\n",
            "24/24 [==============================] - 0s 7ms/step - loss: 1.2348 - accuracy: 0.4362 - val_loss: 1.2484 - val_accuracy: 0.4342\n",
            "Epoch 99/200\n",
            "24/24 [==============================] - 0s 8ms/step - loss: 1.2346 - accuracy: 0.4374 - val_loss: 1.2485 - val_accuracy: 0.4356\n",
            "Epoch 100/200\n",
            "24/24 [==============================] - 0s 6ms/step - loss: 1.2348 - accuracy: 0.4377 - val_loss: 1.2476 - val_accuracy: 0.4356\n",
            "Epoch 101/200\n",
            "24/24 [==============================] - 0s 8ms/step - loss: 1.2336 - accuracy: 0.4404 - val_loss: 1.2474 - val_accuracy: 0.4363\n",
            "Epoch 102/200\n",
            "24/24 [==============================] - 0s 6ms/step - loss: 1.2338 - accuracy: 0.4352 - val_loss: 1.2469 - val_accuracy: 0.4359\n",
            "Epoch 103/200\n",
            "24/24 [==============================] - 0s 6ms/step - loss: 1.2330 - accuracy: 0.4421 - val_loss: 1.2468 - val_accuracy: 0.4359\n",
            "Epoch 104/200\n",
            "24/24 [==============================] - 0s 7ms/step - loss: 1.2323 - accuracy: 0.4413 - val_loss: 1.2484 - val_accuracy: 0.4352\n",
            "Epoch 105/200\n",
            "24/24 [==============================] - 0s 8ms/step - loss: 1.2335 - accuracy: 0.4384 - val_loss: 1.2490 - val_accuracy: 0.4363\n",
            "Epoch 106/200\n",
            "24/24 [==============================] - 0s 6ms/step - loss: 1.2326 - accuracy: 0.4377 - val_loss: 1.2456 - val_accuracy: 0.4366\n",
            "Epoch 107/200\n",
            "24/24 [==============================] - 0s 8ms/step - loss: 1.2309 - accuracy: 0.4399 - val_loss: 1.2450 - val_accuracy: 0.4383\n",
            "Epoch 108/200\n",
            "24/24 [==============================] - 0s 8ms/step - loss: 1.2303 - accuracy: 0.4408 - val_loss: 1.2447 - val_accuracy: 0.4383\n",
            "Epoch 109/200\n",
            "24/24 [==============================] - 0s 9ms/step - loss: 1.2300 - accuracy: 0.4425 - val_loss: 1.2446 - val_accuracy: 0.4390\n",
            "Epoch 110/200\n",
            "24/24 [==============================] - 0s 6ms/step - loss: 1.2298 - accuracy: 0.4379 - val_loss: 1.2446 - val_accuracy: 0.4363\n",
            "Epoch 111/200\n",
            "24/24 [==============================] - 0s 8ms/step - loss: 1.2296 - accuracy: 0.4438 - val_loss: 1.2442 - val_accuracy: 0.4373\n",
            "Epoch 112/200\n",
            "24/24 [==============================] - 0s 5ms/step - loss: 1.2286 - accuracy: 0.4391 - val_loss: 1.2436 - val_accuracy: 0.4401\n",
            "Epoch 113/200\n",
            "24/24 [==============================] - 0s 4ms/step - loss: 1.2280 - accuracy: 0.4455 - val_loss: 1.2430 - val_accuracy: 0.4418\n",
            "Epoch 114/200\n",
            "24/24 [==============================] - 0s 5ms/step - loss: 1.2282 - accuracy: 0.4425 - val_loss: 1.2428 - val_accuracy: 0.4404\n",
            "Epoch 115/200\n",
            "24/24 [==============================] - 0s 4ms/step - loss: 1.2278 - accuracy: 0.4441 - val_loss: 1.2427 - val_accuracy: 0.4411\n",
            "Epoch 116/200\n",
            "24/24 [==============================] - 0s 5ms/step - loss: 1.2266 - accuracy: 0.4445 - val_loss: 1.2426 - val_accuracy: 0.4411\n",
            "Epoch 117/200\n",
            "24/24 [==============================] - 0s 4ms/step - loss: 1.2264 - accuracy: 0.4463 - val_loss: 1.2429 - val_accuracy: 0.4349\n",
            "Epoch 118/200\n",
            "24/24 [==============================] - 0s 4ms/step - loss: 1.2262 - accuracy: 0.4460 - val_loss: 1.2419 - val_accuracy: 0.4421\n",
            "Epoch 119/200\n",
            "24/24 [==============================] - 0s 4ms/step - loss: 1.2261 - accuracy: 0.4475 - val_loss: 1.2418 - val_accuracy: 0.4404\n",
            "Epoch 120/200\n",
            "24/24 [==============================] - 0s 4ms/step - loss: 1.2255 - accuracy: 0.4448 - val_loss: 1.2418 - val_accuracy: 0.4418\n",
            "Epoch 121/200\n",
            "24/24 [==============================] - 0s 4ms/step - loss: 1.2251 - accuracy: 0.4475 - val_loss: 1.2419 - val_accuracy: 0.4356\n",
            "Epoch 122/200\n",
            "24/24 [==============================] - 0s 4ms/step - loss: 1.2257 - accuracy: 0.4448 - val_loss: 1.2414 - val_accuracy: 0.4438\n",
            "Epoch 123/200\n",
            "24/24 [==============================] - 0s 4ms/step - loss: 1.2238 - accuracy: 0.4463 - val_loss: 1.2411 - val_accuracy: 0.4438\n",
            "Epoch 124/200\n",
            "24/24 [==============================] - 0s 6ms/step - loss: 1.2242 - accuracy: 0.4472 - val_loss: 1.2407 - val_accuracy: 0.4414\n",
            "Epoch 125/200\n",
            "24/24 [==============================] - 0s 4ms/step - loss: 1.2236 - accuracy: 0.4457 - val_loss: 1.2407 - val_accuracy: 0.4438\n",
            "Epoch 126/200\n",
            "24/24 [==============================] - 0s 4ms/step - loss: 1.2233 - accuracy: 0.4477 - val_loss: 1.2411 - val_accuracy: 0.4366\n",
            "Epoch 127/200\n",
            "24/24 [==============================] - 0s 5ms/step - loss: 1.2226 - accuracy: 0.4467 - val_loss: 1.2402 - val_accuracy: 0.4401\n",
            "Epoch 128/200\n",
            "24/24 [==============================] - 0s 4ms/step - loss: 1.2216 - accuracy: 0.4450 - val_loss: 1.2395 - val_accuracy: 0.4449\n",
            "Epoch 129/200\n",
            "24/24 [==============================] - 0s 4ms/step - loss: 1.2216 - accuracy: 0.4440 - val_loss: 1.2411 - val_accuracy: 0.4366\n",
            "Epoch 130/200\n",
            "24/24 [==============================] - 0s 4ms/step - loss: 1.2216 - accuracy: 0.4491 - val_loss: 1.2393 - val_accuracy: 0.4438\n",
            "Epoch 131/200\n",
            "24/24 [==============================] - 0s 4ms/step - loss: 1.2205 - accuracy: 0.4480 - val_loss: 1.2394 - val_accuracy: 0.4459\n",
            "Epoch 132/200\n",
            "24/24 [==============================] - 0s 6ms/step - loss: 1.2218 - accuracy: 0.4447 - val_loss: 1.2388 - val_accuracy: 0.4476\n",
            "Epoch 133/200\n",
            "24/24 [==============================] - 0s 5ms/step - loss: 1.2214 - accuracy: 0.4469 - val_loss: 1.2390 - val_accuracy: 0.4459\n",
            "Epoch 134/200\n",
            "24/24 [==============================] - 0s 4ms/step - loss: 1.2209 - accuracy: 0.4479 - val_loss: 1.2384 - val_accuracy: 0.4456\n",
            "Epoch 135/200\n",
            "24/24 [==============================] - 0s 4ms/step - loss: 1.2232 - accuracy: 0.4428 - val_loss: 1.2389 - val_accuracy: 0.4456\n",
            "Epoch 136/200\n",
            "24/24 [==============================] - 0s 4ms/step - loss: 1.2192 - accuracy: 0.4465 - val_loss: 1.2377 - val_accuracy: 0.4476\n",
            "Epoch 137/200\n",
            "24/24 [==============================] - 0s 4ms/step - loss: 1.2186 - accuracy: 0.4470 - val_loss: 1.2375 - val_accuracy: 0.4480\n",
            "Epoch 138/200\n",
            "24/24 [==============================] - 0s 4ms/step - loss: 1.2182 - accuracy: 0.4477 - val_loss: 1.2370 - val_accuracy: 0.4476\n",
            "Epoch 139/200\n",
            "24/24 [==============================] - 0s 4ms/step - loss: 1.2181 - accuracy: 0.4491 - val_loss: 1.2381 - val_accuracy: 0.4435\n",
            "Epoch 140/200\n",
            "24/24 [==============================] - 0s 6ms/step - loss: 1.2176 - accuracy: 0.4470 - val_loss: 1.2371 - val_accuracy: 0.4459\n",
            "Epoch 141/200\n",
            "24/24 [==============================] - 0s 7ms/step - loss: 1.2187 - accuracy: 0.4480 - val_loss: 1.2379 - val_accuracy: 0.4473\n",
            "Epoch 142/200\n",
            "24/24 [==============================] - 0s 7ms/step - loss: 1.2176 - accuracy: 0.4480 - val_loss: 1.2365 - val_accuracy: 0.4466\n",
            "Epoch 143/200\n",
            "24/24 [==============================] - 0s 6ms/step - loss: 1.2169 - accuracy: 0.4489 - val_loss: 1.2372 - val_accuracy: 0.4431\n",
            "Epoch 144/200\n",
            "24/24 [==============================] - 0s 6ms/step - loss: 1.2167 - accuracy: 0.4497 - val_loss: 1.2360 - val_accuracy: 0.4473\n",
            "Epoch 145/200\n",
            "24/24 [==============================] - 0s 5ms/step - loss: 1.2158 - accuracy: 0.4492 - val_loss: 1.2359 - val_accuracy: 0.4466\n",
            "Epoch 146/200\n",
            "24/24 [==============================] - 0s 7ms/step - loss: 1.2166 - accuracy: 0.4524 - val_loss: 1.2367 - val_accuracy: 0.4445\n",
            "Epoch 147/200\n",
            "24/24 [==============================] - 0s 7ms/step - loss: 1.2157 - accuracy: 0.4484 - val_loss: 1.2358 - val_accuracy: 0.4452\n",
            "Epoch 148/200\n",
            "24/24 [==============================] - 0s 7ms/step - loss: 1.2145 - accuracy: 0.4509 - val_loss: 1.2352 - val_accuracy: 0.4493\n",
            "Epoch 149/200\n",
            "24/24 [==============================] - 0s 7ms/step - loss: 1.2149 - accuracy: 0.4523 - val_loss: 1.2372 - val_accuracy: 0.4435\n",
            "Epoch 150/200\n",
            "24/24 [==============================] - 0s 5ms/step - loss: 1.2151 - accuracy: 0.4487 - val_loss: 1.2351 - val_accuracy: 0.4473\n",
            "Epoch 151/200\n",
            "24/24 [==============================] - 0s 5ms/step - loss: 1.2137 - accuracy: 0.4506 - val_loss: 1.2349 - val_accuracy: 0.4469\n",
            "Epoch 152/200\n",
            "24/24 [==============================] - 0s 5ms/step - loss: 1.2137 - accuracy: 0.4507 - val_loss: 1.2349 - val_accuracy: 0.4480\n",
            "Epoch 153/200\n",
            "24/24 [==============================] - 0s 6ms/step - loss: 1.2146 - accuracy: 0.4506 - val_loss: 1.2355 - val_accuracy: 0.4504\n",
            "Epoch 154/200\n",
            "24/24 [==============================] - 0s 5ms/step - loss: 1.2143 - accuracy: 0.4501 - val_loss: 1.2345 - val_accuracy: 0.4493\n",
            "Epoch 155/200\n",
            "24/24 [==============================] - 0s 6ms/step - loss: 1.2131 - accuracy: 0.4499 - val_loss: 1.2343 - val_accuracy: 0.4521\n",
            "Epoch 156/200\n",
            "24/24 [==============================] - 0s 7ms/step - loss: 1.2129 - accuracy: 0.4523 - val_loss: 1.2340 - val_accuracy: 0.4493\n",
            "Epoch 157/200\n",
            "24/24 [==============================] - 0s 5ms/step - loss: 1.2134 - accuracy: 0.4506 - val_loss: 1.2343 - val_accuracy: 0.4490\n",
            "Epoch 158/200\n",
            "24/24 [==============================] - 0s 5ms/step - loss: 1.2141 - accuracy: 0.4494 - val_loss: 1.2339 - val_accuracy: 0.4500\n",
            "Epoch 159/200\n",
            "24/24 [==============================] - 0s 7ms/step - loss: 1.2122 - accuracy: 0.4548 - val_loss: 1.2343 - val_accuracy: 0.4449\n",
            "Epoch 160/200\n",
            "24/24 [==============================] - 0s 5ms/step - loss: 1.2119 - accuracy: 0.4516 - val_loss: 1.2335 - val_accuracy: 0.4462\n",
            "Epoch 161/200\n",
            "24/24 [==============================] - 0s 5ms/step - loss: 1.2119 - accuracy: 0.4499 - val_loss: 1.2330 - val_accuracy: 0.4490\n",
            "Epoch 162/200\n",
            "24/24 [==============================] - 0s 5ms/step - loss: 1.2117 - accuracy: 0.4507 - val_loss: 1.2336 - val_accuracy: 0.4459\n",
            "Epoch 163/200\n",
            "24/24 [==============================] - 0s 6ms/step - loss: 1.2113 - accuracy: 0.4507 - val_loss: 1.2329 - val_accuracy: 0.4490\n",
            "Epoch 164/200\n",
            "24/24 [==============================] - 0s 5ms/step - loss: 1.2114 - accuracy: 0.4521 - val_loss: 1.2332 - val_accuracy: 0.4456\n",
            "Epoch 165/200\n",
            "24/24 [==============================] - 0s 6ms/step - loss: 1.2124 - accuracy: 0.4509 - val_loss: 1.2334 - val_accuracy: 0.4490\n",
            "Epoch 166/200\n",
            "24/24 [==============================] - 0s 7ms/step - loss: 1.2120 - accuracy: 0.4551 - val_loss: 1.2330 - val_accuracy: 0.4510\n",
            "Epoch 167/200\n",
            "24/24 [==============================] - 0s 5ms/step - loss: 1.2109 - accuracy: 0.4499 - val_loss: 1.2330 - val_accuracy: 0.4476\n",
            "Epoch 168/200\n",
            "24/24 [==============================] - 0s 5ms/step - loss: 1.2112 - accuracy: 0.4489 - val_loss: 1.2328 - val_accuracy: 0.4486\n",
            "Epoch 169/200\n",
            "24/24 [==============================] - 0s 5ms/step - loss: 1.2111 - accuracy: 0.4548 - val_loss: 1.2361 - val_accuracy: 0.4404\n",
            "Epoch 170/200\n",
            "24/24 [==============================] - 0s 8ms/step - loss: 1.2116 - accuracy: 0.4526 - val_loss: 1.2323 - val_accuracy: 0.4486\n",
            "Epoch 171/200\n",
            "24/24 [==============================] - 0s 5ms/step - loss: 1.2114 - accuracy: 0.4504 - val_loss: 1.2341 - val_accuracy: 0.4490\n",
            "Epoch 172/200\n",
            "24/24 [==============================] - 0s 5ms/step - loss: 1.2118 - accuracy: 0.4519 - val_loss: 1.2320 - val_accuracy: 0.4510\n",
            "Epoch 173/200\n",
            "24/24 [==============================] - 0s 5ms/step - loss: 1.2102 - accuracy: 0.4545 - val_loss: 1.2325 - val_accuracy: 0.4486\n",
            "Epoch 174/200\n",
            "24/24 [==============================] - 0s 7ms/step - loss: 1.2102 - accuracy: 0.4479 - val_loss: 1.2322 - val_accuracy: 0.4490\n",
            "Epoch 175/200\n",
            "24/24 [==============================] - 0s 5ms/step - loss: 1.2104 - accuracy: 0.4516 - val_loss: 1.2321 - val_accuracy: 0.4480\n",
            "Epoch 176/200\n",
            "24/24 [==============================] - 0s 7ms/step - loss: 1.2096 - accuracy: 0.4513 - val_loss: 1.2321 - val_accuracy: 0.4500\n",
            "Epoch 177/200\n",
            "24/24 [==============================] - 0s 6ms/step - loss: 1.2099 - accuracy: 0.4518 - val_loss: 1.2320 - val_accuracy: 0.4497\n",
            "Epoch 178/200\n",
            "24/24 [==============================] - 0s 5ms/step - loss: 1.2093 - accuracy: 0.4506 - val_loss: 1.2317 - val_accuracy: 0.4493\n",
            "Epoch 179/200\n",
            "24/24 [==============================] - 0s 5ms/step - loss: 1.2090 - accuracy: 0.4524 - val_loss: 1.2314 - val_accuracy: 0.4483\n",
            "Epoch 180/200\n",
            "24/24 [==============================] - 0s 6ms/step - loss: 1.2090 - accuracy: 0.4524 - val_loss: 1.2322 - val_accuracy: 0.4500\n",
            "Epoch 181/200\n",
            "24/24 [==============================] - 0s 10ms/step - loss: 1.2091 - accuracy: 0.4555 - val_loss: 1.2323 - val_accuracy: 0.4507\n",
            "Epoch 182/200\n",
            "24/24 [==============================] - 0s 7ms/step - loss: 1.2091 - accuracy: 0.4524 - val_loss: 1.2311 - val_accuracy: 0.4490\n",
            "Epoch 183/200\n",
            "24/24 [==============================] - 0s 11ms/step - loss: 1.2110 - accuracy: 0.4523 - val_loss: 1.2307 - val_accuracy: 0.4483\n",
            "Epoch 184/200\n",
            "24/24 [==============================] - 0s 9ms/step - loss: 1.2093 - accuracy: 0.4524 - val_loss: 1.2310 - val_accuracy: 0.4462\n",
            "Epoch 185/200\n",
            "24/24 [==============================] - 0s 18ms/step - loss: 1.2082 - accuracy: 0.4536 - val_loss: 1.2299 - val_accuracy: 0.4500\n",
            "Epoch 186/200\n",
            "24/24 [==============================] - 0s 13ms/step - loss: 1.2085 - accuracy: 0.4551 - val_loss: 1.2309 - val_accuracy: 0.4500\n",
            "Epoch 187/200\n",
            "24/24 [==============================] - 0s 14ms/step - loss: 1.2081 - accuracy: 0.4545 - val_loss: 1.2296 - val_accuracy: 0.4493\n",
            "Epoch 188/200\n",
            "24/24 [==============================] - 0s 14ms/step - loss: 1.2081 - accuracy: 0.4536 - val_loss: 1.2298 - val_accuracy: 0.4497\n",
            "Epoch 189/200\n",
            "24/24 [==============================] - 0s 13ms/step - loss: 1.2073 - accuracy: 0.4538 - val_loss: 1.2288 - val_accuracy: 0.4531\n",
            "Epoch 190/200\n",
            "24/24 [==============================] - 0s 11ms/step - loss: 1.2077 - accuracy: 0.4541 - val_loss: 1.2287 - val_accuracy: 0.4524\n",
            "Epoch 191/200\n",
            "24/24 [==============================] - 0s 16ms/step - loss: 1.2069 - accuracy: 0.4550 - val_loss: 1.2285 - val_accuracy: 0.4493\n",
            "Epoch 192/200\n",
            "24/24 [==============================] - 0s 12ms/step - loss: 1.2065 - accuracy: 0.4535 - val_loss: 1.2276 - val_accuracy: 0.4500\n",
            "Epoch 193/200\n",
            "24/24 [==============================] - 0s 12ms/step - loss: 1.2065 - accuracy: 0.4529 - val_loss: 1.2275 - val_accuracy: 0.4521\n",
            "Epoch 194/200\n",
            "24/24 [==============================] - 0s 12ms/step - loss: 1.2064 - accuracy: 0.4545 - val_loss: 1.2272 - val_accuracy: 0.4514\n",
            "Epoch 195/200\n",
            "24/24 [==============================] - 1s 25ms/step - loss: 1.2062 - accuracy: 0.4533 - val_loss: 1.2267 - val_accuracy: 0.4524\n",
            "Epoch 196/200\n",
            "24/24 [==============================] - 0s 11ms/step - loss: 1.2080 - accuracy: 0.4558 - val_loss: 1.2281 - val_accuracy: 0.4500\n",
            "Epoch 197/200\n",
            "24/24 [==============================] - 0s 13ms/step - loss: 1.2062 - accuracy: 0.4562 - val_loss: 1.2270 - val_accuracy: 0.4510\n",
            "Epoch 198/200\n",
            "24/24 [==============================] - 0s 11ms/step - loss: 1.2054 - accuracy: 0.4557 - val_loss: 1.2271 - val_accuracy: 0.4535\n",
            "Epoch 199/200\n",
            "24/24 [==============================] - 0s 14ms/step - loss: 1.2057 - accuracy: 0.4584 - val_loss: 1.2275 - val_accuracy: 0.4517\n",
            "Epoch 200/200\n",
            "24/24 [==============================] - 0s 11ms/step - loss: 1.2062 - accuracy: 0.4580 - val_loss: 1.2285 - val_accuracy: 0.4452\n"
          ]
        },
        {
          "output_type": "execute_result",
          "data": {
            "text/plain": [
              "<keras.src.callbacks.History at 0x7e204445aaa0>"
            ]
          },
          "metadata": {},
          "execution_count": 52
        }
      ],
      "source": [
        "ai_brain.fit(x=X_train_scaled,y=y_train,epochs= 200,batch_size=256,validation_data=(X_test_scaled,y_test),)"
      ]
    },
    {
      "cell_type": "code",
      "execution_count": 53,
      "metadata": {
        "id": "TJg7_Sfl5p06"
      },
      "outputs": [],
      "source": [
        "metrics = pd.DataFrame(ai_brain.history.history)"
      ]
    },
    {
      "cell_type": "code",
      "execution_count": 54,
      "metadata": {
        "id": "WV2Rk39K9gST",
        "colab": {
          "base_uri": "https://localhost:8080/",
          "height": 206
        },
        "outputId": "fb99a055-426d-46be-b0a8-bf3eea6a83b8"
      },
      "outputs": [
        {
          "output_type": "execute_result",
          "data": {
            "text/plain": [
              "       loss  accuracy  val_loss  val_accuracy\n",
              "0  2.366623  0.225965  2.046461      0.235658\n",
              "1  1.893412  0.226811  1.704964      0.239780\n",
              "2  1.626549  0.228165  1.528595      0.242185\n",
              "3  1.497190  0.226980  1.450462      0.235314\n",
              "4  1.439403  0.223764  1.416391      0.236001"
            ],
            "text/html": [
              "\n",
              "  <div id=\"df-15e71105-cee1-44c8-831f-2b17deb90256\" class=\"colab-df-container\">\n",
              "    <div>\n",
              "<style scoped>\n",
              "    .dataframe tbody tr th:only-of-type {\n",
              "        vertical-align: middle;\n",
              "    }\n",
              "\n",
              "    .dataframe tbody tr th {\n",
              "        vertical-align: top;\n",
              "    }\n",
              "\n",
              "    .dataframe thead th {\n",
              "        text-align: right;\n",
              "    }\n",
              "</style>\n",
              "<table border=\"1\" class=\"dataframe\">\n",
              "  <thead>\n",
              "    <tr style=\"text-align: right;\">\n",
              "      <th></th>\n",
              "      <th>loss</th>\n",
              "      <th>accuracy</th>\n",
              "      <th>val_loss</th>\n",
              "      <th>val_accuracy</th>\n",
              "    </tr>\n",
              "  </thead>\n",
              "  <tbody>\n",
              "    <tr>\n",
              "      <th>0</th>\n",
              "      <td>2.366623</td>\n",
              "      <td>0.225965</td>\n",
              "      <td>2.046461</td>\n",
              "      <td>0.235658</td>\n",
              "    </tr>\n",
              "    <tr>\n",
              "      <th>1</th>\n",
              "      <td>1.893412</td>\n",
              "      <td>0.226811</td>\n",
              "      <td>1.704964</td>\n",
              "      <td>0.239780</td>\n",
              "    </tr>\n",
              "    <tr>\n",
              "      <th>2</th>\n",
              "      <td>1.626549</td>\n",
              "      <td>0.228165</td>\n",
              "      <td>1.528595</td>\n",
              "      <td>0.242185</td>\n",
              "    </tr>\n",
              "    <tr>\n",
              "      <th>3</th>\n",
              "      <td>1.497190</td>\n",
              "      <td>0.226980</td>\n",
              "      <td>1.450462</td>\n",
              "      <td>0.235314</td>\n",
              "    </tr>\n",
              "    <tr>\n",
              "      <th>4</th>\n",
              "      <td>1.439403</td>\n",
              "      <td>0.223764</td>\n",
              "      <td>1.416391</td>\n",
              "      <td>0.236001</td>\n",
              "    </tr>\n",
              "  </tbody>\n",
              "</table>\n",
              "</div>\n",
              "    <div class=\"colab-df-buttons\">\n",
              "\n",
              "  <div class=\"colab-df-container\">\n",
              "    <button class=\"colab-df-convert\" onclick=\"convertToInteractive('df-15e71105-cee1-44c8-831f-2b17deb90256')\"\n",
              "            title=\"Convert this dataframe to an interactive table.\"\n",
              "            style=\"display:none;\">\n",
              "\n",
              "  <svg xmlns=\"http://www.w3.org/2000/svg\" height=\"24px\" viewBox=\"0 -960 960 960\">\n",
              "    <path d=\"M120-120v-720h720v720H120Zm60-500h600v-160H180v160Zm220 220h160v-160H400v160Zm0 220h160v-160H400v160ZM180-400h160v-160H180v160Zm440 0h160v-160H620v160ZM180-180h160v-160H180v160Zm440 0h160v-160H620v160Z\"/>\n",
              "  </svg>\n",
              "    </button>\n",
              "\n",
              "  <style>\n",
              "    .colab-df-container {\n",
              "      display:flex;\n",
              "      gap: 12px;\n",
              "    }\n",
              "\n",
              "    .colab-df-convert {\n",
              "      background-color: #E8F0FE;\n",
              "      border: none;\n",
              "      border-radius: 50%;\n",
              "      cursor: pointer;\n",
              "      display: none;\n",
              "      fill: #1967D2;\n",
              "      height: 32px;\n",
              "      padding: 0 0 0 0;\n",
              "      width: 32px;\n",
              "    }\n",
              "\n",
              "    .colab-df-convert:hover {\n",
              "      background-color: #E2EBFA;\n",
              "      box-shadow: 0px 1px 2px rgba(60, 64, 67, 0.3), 0px 1px 3px 1px rgba(60, 64, 67, 0.15);\n",
              "      fill: #174EA6;\n",
              "    }\n",
              "\n",
              "    .colab-df-buttons div {\n",
              "      margin-bottom: 4px;\n",
              "    }\n",
              "\n",
              "    [theme=dark] .colab-df-convert {\n",
              "      background-color: #3B4455;\n",
              "      fill: #D2E3FC;\n",
              "    }\n",
              "\n",
              "    [theme=dark] .colab-df-convert:hover {\n",
              "      background-color: #434B5C;\n",
              "      box-shadow: 0px 1px 3px 1px rgba(0, 0, 0, 0.15);\n",
              "      filter: drop-shadow(0px 1px 2px rgba(0, 0, 0, 0.3));\n",
              "      fill: #FFFFFF;\n",
              "    }\n",
              "  </style>\n",
              "\n",
              "    <script>\n",
              "      const buttonEl =\n",
              "        document.querySelector('#df-15e71105-cee1-44c8-831f-2b17deb90256 button.colab-df-convert');\n",
              "      buttonEl.style.display =\n",
              "        google.colab.kernel.accessAllowed ? 'block' : 'none';\n",
              "\n",
              "      async function convertToInteractive(key) {\n",
              "        const element = document.querySelector('#df-15e71105-cee1-44c8-831f-2b17deb90256');\n",
              "        const dataTable =\n",
              "          await google.colab.kernel.invokeFunction('convertToInteractive',\n",
              "                                                    [key], {});\n",
              "        if (!dataTable) return;\n",
              "\n",
              "        const docLinkHtml = 'Like what you see? Visit the ' +\n",
              "          '<a target=\"_blank\" href=https://colab.research.google.com/notebooks/data_table.ipynb>data table notebook</a>'\n",
              "          + ' to learn more about interactive tables.';\n",
              "        element.innerHTML = '';\n",
              "        dataTable['output_type'] = 'display_data';\n",
              "        await google.colab.output.renderOutput(dataTable, element);\n",
              "        const docLink = document.createElement('div');\n",
              "        docLink.innerHTML = docLinkHtml;\n",
              "        element.appendChild(docLink);\n",
              "      }\n",
              "    </script>\n",
              "  </div>\n",
              "\n",
              "\n",
              "<div id=\"df-2fb98356-c8ed-4786-81b9-a194c823b39e\">\n",
              "  <button class=\"colab-df-quickchart\" onclick=\"quickchart('df-2fb98356-c8ed-4786-81b9-a194c823b39e')\"\n",
              "            title=\"Suggest charts\"\n",
              "            style=\"display:none;\">\n",
              "\n",
              "<svg xmlns=\"http://www.w3.org/2000/svg\" height=\"24px\"viewBox=\"0 0 24 24\"\n",
              "     width=\"24px\">\n",
              "    <g>\n",
              "        <path d=\"M19 3H5c-1.1 0-2 .9-2 2v14c0 1.1.9 2 2 2h14c1.1 0 2-.9 2-2V5c0-1.1-.9-2-2-2zM9 17H7v-7h2v7zm4 0h-2V7h2v10zm4 0h-2v-4h2v4z\"/>\n",
              "    </g>\n",
              "</svg>\n",
              "  </button>\n",
              "\n",
              "<style>\n",
              "  .colab-df-quickchart {\n",
              "      --bg-color: #E8F0FE;\n",
              "      --fill-color: #1967D2;\n",
              "      --hover-bg-color: #E2EBFA;\n",
              "      --hover-fill-color: #174EA6;\n",
              "      --disabled-fill-color: #AAA;\n",
              "      --disabled-bg-color: #DDD;\n",
              "  }\n",
              "\n",
              "  [theme=dark] .colab-df-quickchart {\n",
              "      --bg-color: #3B4455;\n",
              "      --fill-color: #D2E3FC;\n",
              "      --hover-bg-color: #434B5C;\n",
              "      --hover-fill-color: #FFFFFF;\n",
              "      --disabled-bg-color: #3B4455;\n",
              "      --disabled-fill-color: #666;\n",
              "  }\n",
              "\n",
              "  .colab-df-quickchart {\n",
              "    background-color: var(--bg-color);\n",
              "    border: none;\n",
              "    border-radius: 50%;\n",
              "    cursor: pointer;\n",
              "    display: none;\n",
              "    fill: var(--fill-color);\n",
              "    height: 32px;\n",
              "    padding: 0;\n",
              "    width: 32px;\n",
              "  }\n",
              "\n",
              "  .colab-df-quickchart:hover {\n",
              "    background-color: var(--hover-bg-color);\n",
              "    box-shadow: 0 1px 2px rgba(60, 64, 67, 0.3), 0 1px 3px 1px rgba(60, 64, 67, 0.15);\n",
              "    fill: var(--button-hover-fill-color);\n",
              "  }\n",
              "\n",
              "  .colab-df-quickchart-complete:disabled,\n",
              "  .colab-df-quickchart-complete:disabled:hover {\n",
              "    background-color: var(--disabled-bg-color);\n",
              "    fill: var(--disabled-fill-color);\n",
              "    box-shadow: none;\n",
              "  }\n",
              "\n",
              "  .colab-df-spinner {\n",
              "    border: 2px solid var(--fill-color);\n",
              "    border-color: transparent;\n",
              "    border-bottom-color: var(--fill-color);\n",
              "    animation:\n",
              "      spin 1s steps(1) infinite;\n",
              "  }\n",
              "\n",
              "  @keyframes spin {\n",
              "    0% {\n",
              "      border-color: transparent;\n",
              "      border-bottom-color: var(--fill-color);\n",
              "      border-left-color: var(--fill-color);\n",
              "    }\n",
              "    20% {\n",
              "      border-color: transparent;\n",
              "      border-left-color: var(--fill-color);\n",
              "      border-top-color: var(--fill-color);\n",
              "    }\n",
              "    30% {\n",
              "      border-color: transparent;\n",
              "      border-left-color: var(--fill-color);\n",
              "      border-top-color: var(--fill-color);\n",
              "      border-right-color: var(--fill-color);\n",
              "    }\n",
              "    40% {\n",
              "      border-color: transparent;\n",
              "      border-right-color: var(--fill-color);\n",
              "      border-top-color: var(--fill-color);\n",
              "    }\n",
              "    60% {\n",
              "      border-color: transparent;\n",
              "      border-right-color: var(--fill-color);\n",
              "    }\n",
              "    80% {\n",
              "      border-color: transparent;\n",
              "      border-right-color: var(--fill-color);\n",
              "      border-bottom-color: var(--fill-color);\n",
              "    }\n",
              "    90% {\n",
              "      border-color: transparent;\n",
              "      border-bottom-color: var(--fill-color);\n",
              "    }\n",
              "  }\n",
              "</style>\n",
              "\n",
              "  <script>\n",
              "    async function quickchart(key) {\n",
              "      const quickchartButtonEl =\n",
              "        document.querySelector('#' + key + ' button');\n",
              "      quickchartButtonEl.disabled = true;  // To prevent multiple clicks.\n",
              "      quickchartButtonEl.classList.add('colab-df-spinner');\n",
              "      try {\n",
              "        const charts = await google.colab.kernel.invokeFunction(\n",
              "            'suggestCharts', [key], {});\n",
              "      } catch (error) {\n",
              "        console.error('Error during call to suggestCharts:', error);\n",
              "      }\n",
              "      quickchartButtonEl.classList.remove('colab-df-spinner');\n",
              "      quickchartButtonEl.classList.add('colab-df-quickchart-complete');\n",
              "    }\n",
              "    (() => {\n",
              "      let quickchartButtonEl =\n",
              "        document.querySelector('#df-2fb98356-c8ed-4786-81b9-a194c823b39e button');\n",
              "      quickchartButtonEl.style.display =\n",
              "        google.colab.kernel.accessAllowed ? 'block' : 'none';\n",
              "    })();\n",
              "  </script>\n",
              "</div>\n",
              "\n",
              "    </div>\n",
              "  </div>\n"
            ],
            "application/vnd.google.colaboratory.intrinsic+json": {
              "type": "dataframe",
              "variable_name": "metrics",
              "summary": "{\n  \"name\": \"metrics\",\n  \"rows\": 200,\n  \"fields\": [\n    {\n      \"column\": \"loss\",\n      \"properties\": {\n        \"dtype\": \"number\",\n        \"std\": 0.10804693517932952,\n        \"min\": 1.205363392829895,\n        \"max\": 2.3666231632232666,\n        \"num_unique_values\": 200,\n        \"samples\": [\n          1.2361540794372559,\n          1.3577631711959839,\n          1.3221439123153687\n        ],\n        \"semantic_type\": \"\",\n        \"description\": \"\"\n      }\n    },\n    {\n      \"column\": \"accuracy\",\n      \"properties\": {\n        \"dtype\": \"number\",\n        \"std\": 0.05363363395359941,\n        \"min\": 0.22376438975334167,\n        \"max\": 0.45836153626441956,\n        \"num_unique_values\": 150,\n        \"samples\": [\n          0.432972252368927,\n          0.326675683259964,\n          0.44837507605552673\n        ],\n        \"semantic_type\": \"\",\n        \"description\": \"\"\n      }\n    },\n    {\n      \"column\": \"val_loss\",\n      \"properties\": {\n        \"dtype\": \"number\",\n        \"std\": 0.07911524300321501,\n        \"min\": 1.2267262935638428,\n        \"max\": 2.0464611053466797,\n        \"num_unique_values\": 200,\n        \"samples\": [\n          1.249102234840393,\n          1.3553059101104736,\n          1.3228888511657715\n        ],\n        \"semantic_type\": \"\",\n        \"description\": \"\"\n      }\n    },\n    {\n      \"column\": \"val_accuracy\",\n      \"properties\": {\n        \"dtype\": \"number\",\n        \"std\": 0.05120649853383146,\n        \"min\": 0.23531432449817657,\n        \"max\": 0.4534524083137512,\n        \"num_unique_values\": 120,\n        \"samples\": [\n          0.4136035740375519,\n          0.4146341383457184,\n          0.2360013723373413\n        ],\n        \"semantic_type\": \"\",\n        \"description\": \"\"\n      }\n    }\n  ]\n}"
            }
          },
          "metadata": {},
          "execution_count": 54
        }
      ],
      "source": [
        "metrics.head()"
      ]
    },
    {
      "cell_type": "code",
      "execution_count": 55,
      "metadata": {
        "id": "i5VjjxTx9gVn",
        "colab": {
          "base_uri": "https://localhost:8080/",
          "height": 447
        },
        "outputId": "905be79b-1e6c-4861-b8b3-6eae93b7d127"
      },
      "outputs": [
        {
          "output_type": "execute_result",
          "data": {
            "text/plain": [
              "<Axes: >"
            ]
          },
          "metadata": {},
          "execution_count": 55
        },
        {
          "output_type": "display_data",
          "data": {
            "text/plain": [
              "<Figure size 640x480 with 1 Axes>"
            ],
            "image/png": "[encoded data removed]"
          },
          "metadata": {}
        }
      ],
      "source": [
        "metrics[['loss','val_loss']].plot()"
      ]
    },
    {
      "cell_type": "code",
      "execution_count": 56,
      "metadata": {
        "id": "hMS6tH9V9kdj",
        "colab": {
          "base_uri": "https://localhost:8080/"
        },
        "outputId": "cefb0c4c-3b88-4a0e-dbfe-ef34bb78a6fd"
      },
      "outputs": [
        {
          "output_type": "stream",
          "name": "stdout",
          "text": [
            "91/91 [==============================] - 0s 2ms/step\n"
          ]
        }
      ],
      "source": [
        "x_test_predictions = np.argmax(ai_brain.predict(X_test_scaled), axis=1)"
      ]
    },
    {
      "cell_type": "code",
      "execution_count": 57,
      "metadata": {
        "id": "Z66lYa-39kg7",
        "colab": {
          "base_uri": "https://localhost:8080/"
        },
        "outputId": "9af49616-3cf7-4805-80bd-a9841d2359d8"
      },
      "outputs": [
        {
          "output_type": "execute_result",
          "data": {
            "text/plain": [
              "(2911,)"
            ]
          },
          "metadata": {},
          "execution_count": 57
        }
      ],
      "source": [
        "x_test_predictions.shape"
      ]
    },
    {
      "cell_type": "code",
      "execution_count": 58,
      "metadata": {
        "id": "X5lwT2Ul91L1"
      },
      "outputs": [],
      "source": [
        "y_test_truevalue = np.argmax(y_test,axis=1)"
      ]
    },
    {
      "cell_type": "code",
      "execution_count": 59,
      "metadata": {
        "id": "2p_AMdxV91PU",
        "colab": {
          "base_uri": "https://localhost:8080/"
        },
        "outputId": "edd0c707-0b18-4306-8eae-296dbe93a4ae"
      },
      "outputs": [
        {
          "output_type": "execute_result",
          "data": {
            "text/plain": [
              "(2911,)"
            ]
          },
          "metadata": {},
          "execution_count": 59
        }
      ],
      "source": [
        "y_test_truevalue.shape"
      ]
    },
    {
      "cell_type": "code",
      "execution_count": 60,
      "metadata": {
        "id": "620Eqm6w97dd",
        "colab": {
          "base_uri": "https://localhost:8080/"
        },
        "outputId": "f462506f-93b0-478a-8c51-24696f0f08e5"
      },
      "outputs": [
        {
          "output_type": "stream",
          "name": "stdout",
          "text": [
            "[[368  20 132 237]\n",
            " [295  41 222 128]\n",
            " [164  36 376 110]\n",
            " [205  13  53 511]]\n"
          ]
        }
      ],
      "source": [
        "print(confusion_matrix(y_test_truevalue,x_test_predictions))"
      ]
    },
    {
      "cell_type": "code",
      "execution_count": 61,
      "metadata": {
        "id": "WlC_GizO97nM",
        "colab": {
          "base_uri": "https://localhost:8080/"
        },
        "outputId": "9b63b8af-2f0a-49b1-dba4-c414654c1440"
      },
      "outputs": [
        {
          "output_type": "stream",
          "name": "stdout",
          "text": [
            "              precision    recall  f1-score   support\n",
            "\n",
            "           0       0.36      0.49      0.41       757\n",
            "           1       0.37      0.06      0.10       686\n",
            "           2       0.48      0.55      0.51       686\n",
            "           3       0.52      0.65      0.58       782\n",
            "\n",
            "    accuracy                           0.45      2911\n",
            "   macro avg       0.43      0.44      0.40      2911\n",
            "weighted avg       0.43      0.45      0.41      2911\n",
            "\n"
          ]
        }
      ],
      "source": [
        "print(classification_report(y_test_truevalue,x_test_predictions))"
      ]
    },
    {
      "cell_type": "code",
      "source": [
        "ai_brain.save('customer_classification_model.h5')"
      ],
      "metadata": {
        "colab": {
          "base_uri": "https://localhost:8080/"
        },
        "id": "AL9WOeB4TWBF",
        "outputId": "7816a659-e397-4f4f-de4d-d851fd0a2c4f"
      },
      "execution_count": 62,
      "outputs": [
        {
          "output_type": "stream",
          "name": "stderr",
          "text": [
            "/usr/local/lib/python3.10/dist-packages/keras/src/engine/training.py:3103: UserWarning: You are saving your model as an HDF5 file via `model.save()`. This file format is considered legacy. We recommend using instead the native Keras format, e.g. `model.save('my_model.keras')`.\n",
            "  saving_api.save_model(\n"
          ]
        }
      ]
    },
    {
      "cell_type": "code",
      "source": [
        "with open('customer_data.pickle', 'wb') as fh:\n",
        "   pickle.dump([X_train_scaled,y_train,X_test_scaled,y_test,customers_1,customer_df_cleaned,scaler_age,enc,one_hot_enc,le], fh)\n"
      ],
      "metadata": {
        "id": "V6Hgk92aTWGd"
      },
      "execution_count": 63,
      "outputs": []
    },
    {
      "cell_type": "code",
      "source": [
        "ai_brain = load_model('customer_classification_model.h5')"
      ],
      "metadata": {
        "id": "YL2N2my0ZXcv"
      },
      "execution_count": 64,
      "outputs": []
    },
    {
      "cell_type": "code",
      "source": [
        "with open('customer_data.pickle', 'rb') as fh:\n",
        "   [X_train_scaled,y_train,X_test_scaled,y_test,customers_1,customer_df_cleaned,scaler_age,enc,one_hot_enc,le]=pickle.load(fh)"
      ],
      "metadata": {
        "id": "o4ayczaaZYjV"
      },
      "execution_count": 65,
      "outputs": []
    },
    {
      "cell_type": "code",
      "source": [
        "x_single_prediction = np.argmax(ai_brain.predict(X_test_scaled[1:2,:]), axis=1)\n",
        "print(x_single_prediction)\n",
        "print(le.inverse_transform(x_single_prediction))"
      ],
      "metadata": {
        "colab": {
          "base_uri": "https://localhost:8080/"
        },
        "id": "lQIGZHsvT1yh",
        "outputId": "46d17c51-5939-4245-85f7-f736ab34daeb"
      },
      "execution_count": 66,
      "outputs": [
        {
          "output_type": "stream",
          "name": "stdout",
          "text": [
            "1/1 [==============================] - 0s 76ms/step\n",
            "[2]\n",
            "['C']\n"
          ]
        }
      ]
    }
  ],
  "metadata": {
    "colab": {
      "provenance": []
    },
    "kernelspec": {
      "display_name": "Python 3",
      "name": "python3"
    },
    "language_info": {
      "name": "python"
    }
  },
  "nbformat": 4,
  "nbformat_minor": 0
}